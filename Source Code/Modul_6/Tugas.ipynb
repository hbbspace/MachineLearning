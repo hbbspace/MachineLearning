{
 "cells": [
  {
   "cell_type": "markdown",
   "metadata": {},
   "source": [
    "## Tugas 1\n",
    "\n",
    "\n",
    "Terdapat dataset **mushroom**. Berdasarkan dataset yang tersebut, bandingkan peforma antara algoritma Decision Tree dan RandomForest. Gunakan tunning hyperparameter untuk mendapatkan parameter dan akurasi yang terbaik."
   ]
  },
  {
   "cell_type": "code",
   "execution_count": 2,
   "metadata": {},
   "outputs": [
    {
     "name": "stdout",
     "output_type": "stream",
     "text": [
      "Best parameters for Decision Tree:  {'max_depth': None, 'min_samples_split': 2}\n",
      "Decision Tree Test Accuracy: 1.00\n",
      "Best parameters for Random Forest:  {'max_depth': None, 'min_samples_split': 2, 'n_estimators': 50}\n",
      "Random Forest Test Accuracy: 1.00\n"
     ]
    }
   ],
   "source": [
    "import pandas as pd\n",
    "from sklearn.model_selection import train_test_split, GridSearchCV\n",
    "from sklearn.tree import DecisionTreeClassifier\n",
    "from sklearn.ensemble import RandomForestClassifier\n",
    "from sklearn.metrics import accuracy_score\n",
    "\n",
    "# Memuat dataset\n",
    "data = pd.read_csv('../../Data/mushrooms.csv')\n",
    "\n",
    "# Preprocessing dataset\n",
    "# Mengubah data kategorikal menjadi numerik\n",
    "data = pd.get_dummies(data)\n",
    "\n",
    "# Memisahkan fitur dan target\n",
    "X = data.drop('class_e', axis=1)  # Ganti 'class_e' dengan nama kolom target yang sesuai\n",
    "y = data['class_e']\n",
    "\n",
    "# Memisahkan data menjadi set pelatihan dan pengujian\n",
    "X_train, X_test, y_train, y_test = train_test_split(X, y, test_size=0.2, random_state=42)\n",
    "\n",
    "# Tugas 1 - Decision Tree\n",
    "dt = DecisionTreeClassifier()\n",
    "dt_param_grid = {\n",
    "    'max_depth': [None, 5, 10, 15],\n",
    "    'min_samples_split': [2, 5, 10]\n",
    "}\n",
    "dt_grid_search = GridSearchCV(dt, dt_param_grid, cv=5)\n",
    "dt_grid_search.fit(X_train, y_train)\n",
    "\n",
    "# Evaluasi Decision Tree\n",
    "y_pred_dt = dt_grid_search.predict(X_test)\n",
    "acc_dt = accuracy_score(y_test, y_pred_dt)\n",
    "print(\"Best parameters for Decision Tree: \", dt_grid_search.best_params_)\n",
    "print(\"Decision Tree Test Accuracy: {:.2f}\".format(acc_dt))\n",
    "\n",
    "# Tugas 1 - Random Forest\n",
    "rf = RandomForestClassifier()\n",
    "rf_param_grid = {\n",
    "    'n_estimators': [50, 100, 200],\n",
    "    'max_depth': [None, 5, 10],\n",
    "    'min_samples_split': [2, 5, 10]\n",
    "}\n",
    "rf_grid_search = GridSearchCV(rf, rf_param_grid, cv=5)\n",
    "rf_grid_search.fit(X_train, y_train)\n",
    "\n",
    "# Evaluasi Random Forest\n",
    "y_pred_rf = rf_grid_search.predict(X_test)\n",
    "acc_rf = accuracy_score(y_test, y_pred_rf)\n",
    "print(\"Best parameters for Random Forest: \", rf_grid_search.best_params_)\n",
    "print(\"Random Forest Test Accuracy: {:.2f}\".format(acc_rf))\n"
   ]
  },
  {
   "cell_type": "markdown",
   "metadata": {},
   "source": [
    "## Tugas 2\n",
    "\n",
    "\n",
    "Terdapat dataset **mushroom**. Berdasarkan dataset tersebut, bandingkan peforma antara algoritma Decision Tree dan AdaBoost. Gunakan tunning hyperparameter untuk mendapatkan parameter dan akurasi yang terbaik."
   ]
  },
  {
   "cell_type": "code",
   "execution_count": 10,
   "metadata": {},
   "outputs": [
    {
     "name": "stdout",
     "output_type": "stream",
     "text": [
      "Best parameters for AdaBoost:  {'estimator': DecisionTreeClassifier(max_depth=1), 'n_estimators': 50}\n",
      "AdaBoost Test Accuracy: 1.00\n"
     ]
    }
   ],
   "source": [
    "from sklearn.ensemble import AdaBoostClassifier\n",
    "from sklearn.tree import DecisionTreeClassifier\n",
    "from sklearn.model_selection import GridSearchCV\n",
    "from sklearn.metrics import accuracy_score\n",
    "\n",
    "# Tugas 2 - Decision Tree dengan AdaBoost\n",
    "# Membuat AdaBoostClassifier dengan algoritma SAMME\n",
    "ada = AdaBoostClassifier(algorithm='SAMME')\n",
    "\n",
    "# Parameter grid untuk tuning hyperparameter\n",
    "ada_param_grid = {\n",
    "    'n_estimators': [50, 100, 200],\n",
    "    'estimator': [DecisionTreeClassifier(max_depth=depth) for depth in [1, 2, 3]]\n",
    "}\n",
    "\n",
    "# Menggunakan GridSearchCV untuk menemukan parameter terbaik\n",
    "ada_grid_search = GridSearchCV(ada, ada_param_grid, cv=5, n_jobs=-1)\n",
    "ada_grid_search.fit(X_train, y_train)\n",
    "\n",
    "# Evaluasi AdaBoost\n",
    "y_pred_ada = ada_grid_search.predict(X_test)\n",
    "acc_ada = accuracy_score(y_test, y_pred_ada)\n",
    "print(\"Best parameters for AdaBoost: \", ada_grid_search.best_params_)\n",
    "print(\"AdaBoost Test Accuracy: {:.2f}\".format(acc_ada))\n"
   ]
  },
  {
   "cell_type": "markdown",
   "metadata": {},
   "source": [
    "## Tugas 3\n",
    "\n",
    "\n",
    "Dengan menggunakan dataset **diabetes**, buatlah ensemble voting dengan algoritma\n",
    "\n",
    "1. Logistic Regression\n",
    "\n",
    "2. SVM kernel polynomial\n",
    "\n",
    "3. Decission Tree\n",
    "\n",
    "Anda boleh melakukan eksplorasi dengan melakukan tunning hyperparameter"
   ]
  },
  {
   "cell_type": "code",
   "execution_count": 12,
   "metadata": {},
   "outputs": [
    {
     "name": "stdout",
     "output_type": "stream",
     "text": [
      "Voting Classifier Test Accuracy: 0.79\n"
     ]
    }
   ],
   "source": [
    "import pandas as pd\n",
    "from sklearn.linear_model import LogisticRegression\n",
    "from sklearn.svm import SVC\n",
    "from sklearn.tree import DecisionTreeClassifier\n",
    "from sklearn.ensemble import VotingClassifier\n",
    "from sklearn.model_selection import train_test_split\n",
    "from sklearn.metrics import accuracy_score\n",
    "\n",
    "# Memuat dataset diabetes\n",
    "diabetes = pd.read_csv('../../Data/diabetes.csv')\n",
    "\n",
    "# Mengasumsikan kolom terakhir adalah target dan lainnya sebagai fitur\n",
    "X = diabetes.iloc[:, :-1]  # Semua kolom kecuali kolom terakhir sebagai fitur\n",
    "y = diabetes.iloc[:, -1]   # Kolom terakhir sebagai target\n",
    "\n",
    "# Memisahkan data menjadi set pelatihan dan pengujian\n",
    "X_train, X_test, y_train, y_test = train_test_split(X, y, test_size=0.2, random_state=42)\n",
    "\n",
    "# Membuat model\n",
    "lr = LogisticRegression(max_iter=1000)\n",
    "svm = SVC(kernel='poly', probability=True)\n",
    "dt = DecisionTreeClassifier()\n",
    "\n",
    "from sklearn.model_selection import GridSearchCV\n",
    "\n",
    "# Parameter untuk Logistic Regression\n",
    "param_lr = {'C': [0.01, 0.1, 1, 10]}\n",
    "\n",
    "# Parameter untuk SVM\n",
    "param_svm = {'degree': [2, 3, 4], 'C': [0.1, 1, 10]}\n",
    "\n",
    "# Parameter untuk Decision Tree\n",
    "param_dt = {'max_depth': [None, 10, 20, 30], 'min_samples_split': [2, 10, 20]}\n",
    "\n",
    "# Tuning hyperparameter untuk setiap model bisa dilakukan seperti ini\n",
    "grid_search_lr = GridSearchCV(lr, param_lr, cv=5)\n",
    "grid_search_svm = GridSearchCV(svm, param_svm, cv=5)\n",
    "grid_search_dt = GridSearchCV(dt, param_dt, cv=5)\n",
    "\n",
    "# Fit untuk masing-masing model\n",
    "grid_search_lr.fit(X_train, y_train)\n",
    "grid_search_svm.fit(X_train, y_train)\n",
    "grid_search_dt.fit(X_train, y_train)\n",
    "\n",
    "# Ensemble Voting\n",
    "voting_clf = VotingClassifier(estimators=[\n",
    "    ('lr', lr),\n",
    "    ('svm', svm),\n",
    "    ('dt', dt)],\n",
    "    voting='soft')  # 'soft' untuk mempertimbangkan probabilitas\n",
    "\n",
    "# Melatih Voting Classifier\n",
    "voting_clf.fit(X_train, y_train)\n",
    "\n",
    "# Memprediksi dan evaluasi\n",
    "y_pred_voting = voting_clf.predict(X_test)\n",
    "acc_voting = accuracy_score(y_test, y_pred_voting)\n",
    "print(\"Voting Classifier Test Accuracy: {:.2f}\".format(acc_voting))"
   ]
  }
 ],
 "metadata": {
  "kernelspec": {
   "display_name": "base",
   "language": "python",
   "name": "python3"
  },
  "language_info": {
   "codemirror_mode": {
    "name": "ipython",
    "version": 3
   },
   "file_extension": ".py",
   "mimetype": "text/x-python",
   "name": "python",
   "nbconvert_exporter": "python",
   "pygments_lexer": "ipython3",
   "version": "3.12.4"
  }
 },
 "nbformat": 4,
 "nbformat_minor": 2
}
