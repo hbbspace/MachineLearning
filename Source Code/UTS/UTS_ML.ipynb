{
  "cells": [
    {
      "cell_type": "markdown",
      "metadata": {
        "id": "icbq3dmaCUIF"
      },
      "source": [
        "# UTS PEMBELAJARAN MESIN 2024 (Klasifikasi Neural Network (NN) Pada Data Citra)\n",
        "***\n",
        "## Anggota Kelompok:\n",
        "### Diantoro Kadarman   / 2241720084\n",
        "### Febby Mathelda S M  / 2241720067\n",
        "### Habibatul Mustofa   / 2241720211\n",
        "### Maya Melanesia R    / 2241720237\n",
        "***\n",
        "# Intro\n",
        "\n",
        "Pada UTS ini, Anda diminta untuk melakukan klasifikasi citra wajah dengan menggunakan dataset Casia-Webface (Data dapat diunduh pada Kaggle).\n",
        "Anda diperbolehkan melakukan eksplorasi terhadap:\n",
        "1. Metode pra pengolahan\n",
        "2. Pemilihan fitur\n",
        "3. Arsitektur ANN\n",
        "4. Fungsi Aktiviasi\n",
        "5. Metric Evaluasi"
      ]
    },
    {
      "cell_type": "markdown",
      "metadata": {
        "id": "wd-QINpxCUIG"
      },
      "source": [
        "# Preparation & Import Library"
      ]
    },
    {
      "cell_type": "code",
      "execution_count": 44,
      "metadata": {
        "id": "lRnhDtIVCUIG"
      },
      "outputs": [],
      "source": [
        "import os\n",
        "import glob\n",
        "import numpy as np\n",
        "import seaborn as sns\n",
        "from PIL import Image\n",
        "import matplotlib.pyplot as plt\n",
        "from sklearn.model_selection import train_test_split\n",
        "from tensorflow.keras.preprocessing.image import ImageDataGenerator\n",
        "from tensorflow.keras.utils import to_categorical\n",
        "from tensorflow.keras.models import Sequential\n",
        "from tensorflow.keras.layers import Conv2D, MaxPooling2D, Flatten, Dense, Dropout, BatchNormalization, GlobalAveragePooling2D\n",
        "from tensorflow.keras.optimizers import Adam\n",
        "from tensorflow.keras.callbacks import EarlyStopping, ModelCheckpoint\n",
        "from sklearn.metrics import classification_report, confusion_matrix"
      ]
    },
    {
      "cell_type": "markdown",
      "metadata": {
        "id": "9ZKDNNIHCUIH"
      },
      "source": [
        "# Load Data"
      ]
    },
    {
      "cell_type": "code",
      "source": [
        "# Upload file kaggle.json dari lokal Anda terlebih dahulu\n",
        "from google.colab import files\n",
        "files.upload()  # Upload file `kaggle.json`\n",
        "\n",
        "# Membuat direktori .kaggle dan memindahkan file API ke sana\n",
        "!mkdir -p ~/.kaggle\n",
        "!mv kaggle.json ~/.kaggle/\n",
        "\n",
        "# Menyesuaikan permission\n",
        "!chmod 600 ~/.kaggle/kaggle.json"
      ],
      "metadata": {
        "colab": {
          "base_uri": "https://localhost:8080/",
          "height": 74
        },
        "id": "DzQdwdAqEGnE",
        "outputId": "da030e09-e56e-42ae-e476-280804939a20"
      },
      "execution_count": 6,
      "outputs": [
        {
          "output_type": "display_data",
          "data": {
            "text/plain": [
              "<IPython.core.display.HTML object>"
            ],
            "text/html": [
              "\n",
              "     <input type=\"file\" id=\"files-1bece13d-8f9e-4114-ba53-f5a62ff22eb4\" name=\"files[]\" multiple disabled\n",
              "        style=\"border:none\" />\n",
              "     <output id=\"result-1bece13d-8f9e-4114-ba53-f5a62ff22eb4\">\n",
              "      Upload widget is only available when the cell has been executed in the\n",
              "      current browser session. Please rerun this cell to enable.\n",
              "      </output>\n",
              "      <script>// Copyright 2017 Google LLC\n",
              "//\n",
              "// Licensed under the Apache License, Version 2.0 (the \"License\");\n",
              "// you may not use this file except in compliance with the License.\n",
              "// You may obtain a copy of the License at\n",
              "//\n",
              "//      http://www.apache.org/licenses/LICENSE-2.0\n",
              "//\n",
              "// Unless required by applicable law or agreed to in writing, software\n",
              "// distributed under the License is distributed on an \"AS IS\" BASIS,\n",
              "// WITHOUT WARRANTIES OR CONDITIONS OF ANY KIND, either express or implied.\n",
              "// See the License for the specific language governing permissions and\n",
              "// limitations under the License.\n",
              "\n",
              "/**\n",
              " * @fileoverview Helpers for google.colab Python module.\n",
              " */\n",
              "(function(scope) {\n",
              "function span(text, styleAttributes = {}) {\n",
              "  const element = document.createElement('span');\n",
              "  element.textContent = text;\n",
              "  for (const key of Object.keys(styleAttributes)) {\n",
              "    element.style[key] = styleAttributes[key];\n",
              "  }\n",
              "  return element;\n",
              "}\n",
              "\n",
              "// Max number of bytes which will be uploaded at a time.\n",
              "const MAX_PAYLOAD_SIZE = 100 * 1024;\n",
              "\n",
              "function _uploadFiles(inputId, outputId) {\n",
              "  const steps = uploadFilesStep(inputId, outputId);\n",
              "  const outputElement = document.getElementById(outputId);\n",
              "  // Cache steps on the outputElement to make it available for the next call\n",
              "  // to uploadFilesContinue from Python.\n",
              "  outputElement.steps = steps;\n",
              "\n",
              "  return _uploadFilesContinue(outputId);\n",
              "}\n",
              "\n",
              "// This is roughly an async generator (not supported in the browser yet),\n",
              "// where there are multiple asynchronous steps and the Python side is going\n",
              "// to poll for completion of each step.\n",
              "// This uses a Promise to block the python side on completion of each step,\n",
              "// then passes the result of the previous step as the input to the next step.\n",
              "function _uploadFilesContinue(outputId) {\n",
              "  const outputElement = document.getElementById(outputId);\n",
              "  const steps = outputElement.steps;\n",
              "\n",
              "  const next = steps.next(outputElement.lastPromiseValue);\n",
              "  return Promise.resolve(next.value.promise).then((value) => {\n",
              "    // Cache the last promise value to make it available to the next\n",
              "    // step of the generator.\n",
              "    outputElement.lastPromiseValue = value;\n",
              "    return next.value.response;\n",
              "  });\n",
              "}\n",
              "\n",
              "/**\n",
              " * Generator function which is called between each async step of the upload\n",
              " * process.\n",
              " * @param {string} inputId Element ID of the input file picker element.\n",
              " * @param {string} outputId Element ID of the output display.\n",
              " * @return {!Iterable<!Object>} Iterable of next steps.\n",
              " */\n",
              "function* uploadFilesStep(inputId, outputId) {\n",
              "  const inputElement = document.getElementById(inputId);\n",
              "  inputElement.disabled = false;\n",
              "\n",
              "  const outputElement = document.getElementById(outputId);\n",
              "  outputElement.innerHTML = '';\n",
              "\n",
              "  const pickedPromise = new Promise((resolve) => {\n",
              "    inputElement.addEventListener('change', (e) => {\n",
              "      resolve(e.target.files);\n",
              "    });\n",
              "  });\n",
              "\n",
              "  const cancel = document.createElement('button');\n",
              "  inputElement.parentElement.appendChild(cancel);\n",
              "  cancel.textContent = 'Cancel upload';\n",
              "  const cancelPromise = new Promise((resolve) => {\n",
              "    cancel.onclick = () => {\n",
              "      resolve(null);\n",
              "    };\n",
              "  });\n",
              "\n",
              "  // Wait for the user to pick the files.\n",
              "  const files = yield {\n",
              "    promise: Promise.race([pickedPromise, cancelPromise]),\n",
              "    response: {\n",
              "      action: 'starting',\n",
              "    }\n",
              "  };\n",
              "\n",
              "  cancel.remove();\n",
              "\n",
              "  // Disable the input element since further picks are not allowed.\n",
              "  inputElement.disabled = true;\n",
              "\n",
              "  if (!files) {\n",
              "    return {\n",
              "      response: {\n",
              "        action: 'complete',\n",
              "      }\n",
              "    };\n",
              "  }\n",
              "\n",
              "  for (const file of files) {\n",
              "    const li = document.createElement('li');\n",
              "    li.append(span(file.name, {fontWeight: 'bold'}));\n",
              "    li.append(span(\n",
              "        `(${file.type || 'n/a'}) - ${file.size} bytes, ` +\n",
              "        `last modified: ${\n",
              "            file.lastModifiedDate ? file.lastModifiedDate.toLocaleDateString() :\n",
              "                                    'n/a'} - `));\n",
              "    const percent = span('0% done');\n",
              "    li.appendChild(percent);\n",
              "\n",
              "    outputElement.appendChild(li);\n",
              "\n",
              "    const fileDataPromise = new Promise((resolve) => {\n",
              "      const reader = new FileReader();\n",
              "      reader.onload = (e) => {\n",
              "        resolve(e.target.result);\n",
              "      };\n",
              "      reader.readAsArrayBuffer(file);\n",
              "    });\n",
              "    // Wait for the data to be ready.\n",
              "    let fileData = yield {\n",
              "      promise: fileDataPromise,\n",
              "      response: {\n",
              "        action: 'continue',\n",
              "      }\n",
              "    };\n",
              "\n",
              "    // Use a chunked sending to avoid message size limits. See b/62115660.\n",
              "    let position = 0;\n",
              "    do {\n",
              "      const length = Math.min(fileData.byteLength - position, MAX_PAYLOAD_SIZE);\n",
              "      const chunk = new Uint8Array(fileData, position, length);\n",
              "      position += length;\n",
              "\n",
              "      const base64 = btoa(String.fromCharCode.apply(null, chunk));\n",
              "      yield {\n",
              "        response: {\n",
              "          action: 'append',\n",
              "          file: file.name,\n",
              "          data: base64,\n",
              "        },\n",
              "      };\n",
              "\n",
              "      let percentDone = fileData.byteLength === 0 ?\n",
              "          100 :\n",
              "          Math.round((position / fileData.byteLength) * 100);\n",
              "      percent.textContent = `${percentDone}% done`;\n",
              "\n",
              "    } while (position < fileData.byteLength);\n",
              "  }\n",
              "\n",
              "  // All done.\n",
              "  yield {\n",
              "    response: {\n",
              "      action: 'complete',\n",
              "    }\n",
              "  };\n",
              "}\n",
              "\n",
              "scope.google = scope.google || {};\n",
              "scope.google.colab = scope.google.colab || {};\n",
              "scope.google.colab._files = {\n",
              "  _uploadFiles,\n",
              "  _uploadFilesContinue,\n",
              "};\n",
              "})(self);\n",
              "</script> "
            ]
          },
          "metadata": {}
        },
        {
          "output_type": "stream",
          "name": "stdout",
          "text": [
            "Saving kaggle.json to kaggle.json\n"
          ]
        }
      ]
    },
    {
      "cell_type": "code",
      "source": [
        "# Install library kaggle jika belum tersedia\n",
        "!pip install kaggle\n",
        "\n",
        "# Mengunduh dataset CASIA-Webface\n",
        "!kaggle datasets download -d ntl0601/casia-webface --unzip -p /content"
      ],
      "metadata": {
        "colab": {
          "base_uri": "https://localhost:8080/"
        },
        "id": "q7NHXnrfEbnK",
        "outputId": "c6241c44-c34f-4e81-9f33-5caf87377ac0"
      },
      "execution_count": 7,
      "outputs": [
        {
          "output_type": "stream",
          "name": "stdout",
          "text": [
            "Requirement already satisfied: kaggle in /usr/local/lib/python3.10/dist-packages (1.6.17)\n",
            "Requirement already satisfied: six>=1.10 in /usr/local/lib/python3.10/dist-packages (from kaggle) (1.16.0)\n",
            "Requirement already satisfied: certifi>=2023.7.22 in /usr/local/lib/python3.10/dist-packages (from kaggle) (2024.8.30)\n",
            "Requirement already satisfied: python-dateutil in /usr/local/lib/python3.10/dist-packages (from kaggle) (2.8.2)\n",
            "Requirement already satisfied: requests in /usr/local/lib/python3.10/dist-packages (from kaggle) (2.32.3)\n",
            "Requirement already satisfied: tqdm in /usr/local/lib/python3.10/dist-packages (from kaggle) (4.66.5)\n",
            "Requirement already satisfied: python-slugify in /usr/local/lib/python3.10/dist-packages (from kaggle) (8.0.4)\n",
            "Requirement already satisfied: urllib3 in /usr/local/lib/python3.10/dist-packages (from kaggle) (2.2.3)\n",
            "Requirement already satisfied: bleach in /usr/local/lib/python3.10/dist-packages (from kaggle) (6.1.0)\n",
            "Requirement already satisfied: webencodings in /usr/local/lib/python3.10/dist-packages (from bleach->kaggle) (0.5.1)\n",
            "Requirement already satisfied: text-unidecode>=1.3 in /usr/local/lib/python3.10/dist-packages (from python-slugify->kaggle) (1.3)\n",
            "Requirement already satisfied: charset-normalizer<4,>=2 in /usr/local/lib/python3.10/dist-packages (from requests->kaggle) (3.4.0)\n",
            "Requirement already satisfied: idna<4,>=2.5 in /usr/local/lib/python3.10/dist-packages (from requests->kaggle) (3.10)\n",
            "Dataset URL: https://www.kaggle.com/datasets/ntl0601/casia-webface\n",
            "License(s): unknown\n",
            "Downloading casia-webface.zip to /content\n",
            "... resuming from 0 bytes (2720283721 bytes left) ...\n",
            "100% 2.53G/2.53G [01:56<00:00, 27.0MB/s]\n",
            "100% 2.53G/2.53G [01:56<00:00, 23.4MB/s]\n"
          ]
        }
      ]
    },
    {
      "cell_type": "code",
      "execution_count": 45,
      "metadata": {
        "colab": {
          "base_uri": "https://localhost:8080/"
        },
        "id": "wEjfzN53CUIH",
        "outputId": "7753739c-3b86-4b5a-ec70-88303b0858fb"
      },
      "outputs": [
        {
          "output_type": "stream",
          "name": "stdout",
          "text": [
            "Path to dataset files: /content/casia-webface\n",
            "Number of folders: 10572\n",
            "First folders: ['001163', '006388', '002782', '000043', '002453']\n",
            "Last folders: ['009913', '002661', '008534', '003216', '010180']\n"
          ]
        }
      ],
      "source": [
        "# Path ke folder yang berisi data yang diunduh\n",
        "path = \"/content/casia-webface\"\n",
        "\n",
        "# Melihat folder di dalam dataset\n",
        "files = os.listdir(path)\n",
        "\n",
        "print(\"Path to dataset files:\", path)\n",
        "print(\"Number of folders:\", len(files))\n",
        "print(\"First folders:\", files[:5])\n",
        "print(\"Last folders:\", files[-5:])"
      ]
    },
    {
      "cell_type": "code",
      "execution_count": 46,
      "metadata": {
        "colab": {
          "base_uri": "https://localhost:8080/",
          "height": 151
        },
        "id": "kN2B39-0CUII",
        "outputId": "64552777-6a8d-46b9-b30f-597151756ce2"
      },
      "outputs": [
        {
          "output_type": "stream",
          "name": "stdout",
          "text": [
            "Found 490623 images.\n"
          ]
        },
        {
          "output_type": "display_data",
          "data": {
            "text/plain": [
              "<Figure size 640x480 with 5 Axes>"
            ],
            "image/png": "[encoded data removed]"
          },
          "metadata": {}
        }
      ],
      "source": [
        "path = \"/content/casia-webface\"\n",
        "\n",
        "# Find all image files in the dataset (assuming images are in .jpg format)\n",
        "image_files = glob.glob(os.path.join(path, \"**/*.jpg\"), recursive=True)\n",
        "\n",
        "# Check if any images were found\n",
        "if image_files:\n",
        "    print(f\"Found {len(image_files)} images.\")\n",
        "\n",
        "    # Display the first 5 images\n",
        "    for i, image_file in enumerate(image_files[:5]):\n",
        "        img = Image.open(image_file)\n",
        "        plt.subplot(1, 5, i + 1)\n",
        "        plt.imshow(img)\n",
        "        plt.tight_layout()\n",
        "        # plt.axis('off')\n",
        "\n",
        "    plt.show()\n",
        "else:\n",
        "    print(\"No images found in the dataset.\")"
      ]
    },
    {
      "cell_type": "markdown",
      "metadata": {
        "id": "qtN_KAbWCUII"
      },
      "source": [
        "# Preprocessing"
      ]
    },
    {
      "cell_type": "code",
      "execution_count": 47,
      "metadata": {
        "colab": {
          "base_uri": "https://localhost:8080/"
        },
        "id": "GI2HLZHeCUII",
        "outputId": "6e4dc022-83ec-459e-80e3-2aaad4118f0b"
      },
      "outputs": [
        {
          "output_type": "stream",
          "name": "stdout",
          "text": [
            "Number of training files: 388297\n",
            "Number of testing files: 102326\n"
          ]
        }
      ],
      "source": [
        "data_path = \"/content/casia-webface\"\n",
        "\n",
        "# Inisialisasi dictionary untuk menyimpan file gambar per kelas\n",
        "class_files = {}\n",
        "\n",
        "# Membaca folder dalam path dan mengelompokkan file gambar per kelas\n",
        "for class_dir in os.listdir(data_path):\n",
        "    class_path = os.path.join(data_path, class_dir)\n",
        "    if os.path.isdir(class_path):  # Hanya membaca folder\n",
        "        image_files = glob.glob(os.path.join(class_path, \"*.jpg\"))  # Sesuaikan dengan ekstensi file gambar\n",
        "        class_files[class_dir] = image_files\n",
        "\n",
        "# Inisialisasi list kosong untuk data train dan test\n",
        "train_files = []\n",
        "test_files = []\n",
        "\n",
        "# Pembagian data train dan test untuk setiap kelas\n",
        "for class_dir, image_files in class_files.items():\n",
        "    train, test = train_test_split(image_files, test_size=0.2, random_state=42)\n",
        "    train_files.extend(train)\n",
        "    test_files.extend(test)\n",
        "\n",
        "print(f\"Number of training files: {len(train_files)}\")\n",
        "print(f\"Number of testing files: {len(test_files)}\")"
      ]
    },
    {
      "cell_type": "code",
      "execution_count": 48,
      "metadata": {
        "id": "n6OUJ1yWCUII",
        "colab": {
          "base_uri": "https://localhost:8080/"
        },
        "outputId": "533dd3fa-4a17-4ffd-9d9f-57d7cd65beb9"
      },
      "outputs": [
        {
          "output_type": "stream",
          "name": "stdout",
          "text": [
            "Found 396673 images belonging to 10572 classes.\n",
            "Found 93950 images belonging to 10572 classes.\n",
            "Processed training data shape: 396673 images\n",
            "Processed validation data shape: 93950 images\n",
            "Number of classes: 10572\n"
          ]
        }
      ],
      "source": [
        "# Path dataset\n",
        "data_path = '/content/casia-webface'\n",
        "\n",
        "# Data Augmentation untuk mengurangi penggunaan memori saat proses pelatihan\n",
        "train_datagen = ImageDataGenerator(\n",
        "    rescale=1./255,\n",
        "    rotation_range=20,\n",
        "    width_shift_range=0.2,\n",
        "    height_shift_range=0.2,\n",
        "    shear_range=0.2,\n",
        "    zoom_range=0.2,\n",
        "    horizontal_flip=True,\n",
        "    fill_mode='nearest',\n",
        "    validation_split=0.2\n",
        ")\n",
        "\n",
        "# Membuat generator data langsung dari direktori\n",
        "train_generator = train_datagen.flow_from_directory(\n",
        "    data_path,\n",
        "    target_size=(64, 64),  # Mengubah ukuran input gambar\n",
        "    batch_size=32,\n",
        "    class_mode='categorical',\n",
        "    subset='training',\n",
        "    shuffle=True,\n",
        "    seed=42\n",
        ")\n",
        "\n",
        "validation_generator = train_datagen.flow_from_directory(\n",
        "    data_path,\n",
        "    target_size=(64, 64),\n",
        "    batch_size=32,\n",
        "    class_mode='categorical',\n",
        "    subset='validation',\n",
        "    seed=42\n",
        ")\n",
        "\n",
        "# Menentukan jumlah kelas berdasarkan data di generator\n",
        "num_classes = train_generator.num_classes\n",
        "\n",
        "# Menampilkan hasil pelatihan\n",
        "print(f\"Processed training data shape: {train_generator.samples} images\")\n",
        "print(f\"Processed validation data shape: {validation_generator.samples} images\")\n",
        "print(f\"Number of classes: {num_classes}\")"
      ]
    },
    {
      "cell_type": "markdown",
      "metadata": {
        "id": "fNHkseDcCUII"
      },
      "source": [
        "**Encoding Label**: LabelEncoder digunakan untuk mengonversi label kelas ke bentuk numerik. Kemudian, label dikonversi ke format one-hot encoding menggunakan to_categorical agar sesuai dengan output klasifikasi multi-kelas."
      ]
    },
    {
      "cell_type": "markdown",
      "metadata": {
        "id": "MpEN2gziCUII"
      },
      "source": [
        "# Build Model"
      ]
    },
    {
      "cell_type": "code",
      "execution_count": null,
      "metadata": {
        "id": "DUkTSSzkCUII",
        "colab": {
          "base_uri": "https://localhost:8080/"
        },
        "outputId": "6c5c797b-dbb2-4ef7-f29b-e9b2b82050ad"
      },
      "outputs": [
        {
          "output_type": "stream",
          "name": "stdout",
          "text": [
            "Epoch 1/10\n",
            "\u001b[1m  105/12396\u001b[0m \u001b[37m━━━━━━━━━━━━━━━━━━━━\u001b[0m \u001b[1m1:18:17\u001b[0m 382ms/step - accuracy: 3.2342e-04 - loss: 9.2798"
          ]
        }
      ],
      "source": [
        "# Membangun model CNN yang lebih efisien dengan GlobalAveragePooling\n",
        "model = Sequential([\n",
        "    Conv2D(32, (3, 3), activation='relu', input_shape=(64, 64, 3)),\n",
        "    MaxPooling2D((2, 2)),\n",
        "    BatchNormalization(),\n",
        "\n",
        "    Conv2D(64, (3, 3), activation='relu'),\n",
        "    MaxPooling2D((2, 2)),\n",
        "    BatchNormalization(),\n",
        "\n",
        "    Conv2D(128, (3, 3), activation='relu'),\n",
        "    MaxPooling2D((2, 2)),\n",
        "    BatchNormalization(),\n",
        "\n",
        "    Flatten(),\n",
        "    Dense(128, activation='relu'),\n",
        "    Dropout(0.5),\n",
        "    Dense(num_classes, activation='softmax')\n",
        "])\n",
        "\n",
        "# Mengompilasi model dengan learning rate yang diatur\n",
        "model.compile(optimizer=Adam(learning_rate=0.0001), loss='categorical_crossentropy', metrics=['accuracy'])\n",
        "\n",
        "# Callback untuk early stopping\n",
        "early_stopping = EarlyStopping(monitor='val_loss', patience=3, restore_best_weights=True)\n",
        "\n",
        "# Melatih model dengan generator\n",
        "history = model.fit(\n",
        "    train_generator,\n",
        "    steps_per_epoch=train_generator.samples // train_generator.batch_size,\n",
        "    epochs=10,\n",
        "    validation_data=validation_generator,\n",
        "    validation_steps=validation_generator.samples // validation_generator.batch_size,\n",
        "    callbacks=[early_stopping]\n",
        ")"
      ]
    },
    {
      "cell_type": "markdown",
      "metadata": {
        "id": "_Zkbsy7pCUII"
      },
      "source": [
        "**Arsitektur CNN**: Model CNN dengan beberapa lapisan konvolusi, pooling, batch normalization, dan dropout untuk mencegah overfitting. Fungsi aktivasi ReLU digunakan dalam lapisan konvolusi dan dense, sementara softmax digunakan pada lapisan output.\n",
        "\n",
        "\n",
        "**Kompilasi Model**: Optimizer Adam dengan fungsi loss categorical cross-entropy digunakan, dan metrik akurasi dipilih untuk evaluasi."
      ]
    },
    {
      "cell_type": "markdown",
      "metadata": {
        "id": "-mQk_tHlCUIJ"
      },
      "source": [
        "# Evaluation"
      ]
    },
    {
      "cell_type": "markdown",
      "metadata": {
        "id": "OwJqTj-jCUIJ"
      },
      "source": [
        "**Evaluasi Model**: classification_report menghasilkan metrik evaluasi, termasuk presisi, recall, F1-score, dan akurasi untuk setiap kelas."
      ]
    },
    {
      "cell_type": "code",
      "execution_count": null,
      "metadata": {
        "id": "0s4N9TJECUIJ"
      },
      "outputs": [],
      "source": [
        "# Evaluasi model\n",
        "y_pred = model.predict(validation_generator, steps=validation_generator.samples // validation_generator.batch_size + 1)\n",
        "y_pred_classes = np.argmax(y_pred, axis=1)\n",
        "\n",
        "# Mengambil label dari validasi\n",
        "y_test_classes = validation_generator.classes\n",
        "\n",
        "# Mengambil nama kelas dari generator\n",
        "class_labels = list(validation_generator.class_indices.keys())\n",
        "\n",
        "# Menampilkan laporan klasifikasi\n",
        "print(\"Classification Report:\")\n",
        "print(classification_report(y_test_classes, y_pred_classes, target_names=class_labels))\n",
        "\n",
        "# Visualisasi Confusion Matrix\n",
        "cm = confusion_matrix(y_test_classes, y_pred_classes)\n",
        "plt.figure(figsize=(10, 8))\n",
        "sns.heatmap(cm, annot=True, fmt=\"d\", cmap=\"Blues\", xticklabels=class_labels, yticklabels=class_labels)\n",
        "plt.xlabel(\"Predicted\")\n",
        "plt.ylabel(\"True\")\n",
        "plt.show()\n",
        "\n",
        "# Visualisasi Akurasi dan Loss\n",
        "plt.figure(figsize=(12, 4))\n",
        "plt.subplot(1, 2, 1)\n",
        "plt.plot(history.history['accuracy'], label='Train Accuracy')\n",
        "plt.plot(history.history['val_accuracy'], label='Validation Accuracy')\n",
        "plt.legend()\n",
        "plt.title(\"Accuracy over Epochs\")\n",
        "\n",
        "plt.subplot(1, 2, 2)\n",
        "plt.plot(history.history['loss'], label='Train Loss')\n",
        "plt.plot(history.history['val_loss'], label='Validation Loss')\n",
        "plt.legend()\n",
        "plt.title(\"Loss over Epochs\")\n",
        "plt.show()"
      ]
    }
  ],
  "metadata": {
    "kernelspec": {
      "display_name": "Python 3",
      "name": "python3"
    },
    "language_info": {
      "codemirror_mode": {
        "name": "ipython",
        "version": 3
      },
      "file_extension": ".py",
      "mimetype": "text/x-python",
      "name": "python",
      "nbconvert_exporter": "python",
      "pygments_lexer": "ipython3",
      "version": "3.12.4"
    },
    "colab": {
      "provenance": [],
      "gpuType": "T4"
    },
    "accelerator": "GPU"
  },
  "nbformat": 4,
  "nbformat_minor": 0
}