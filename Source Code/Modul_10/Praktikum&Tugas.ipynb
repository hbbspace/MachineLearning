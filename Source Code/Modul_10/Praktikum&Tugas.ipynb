{
 "cells": [
  {
   "cell_type": "markdown",
   "metadata": {
    "id": "9M_oXNrqwFem"
   },
   "source": [
    "# Kelompok 4\n",
    "- Diantoro Kadarman (2241720084)\n",
    "- Febby Mathelda S M (2241720067)\n",
    "- Habibatul Mustofa (2241720211)\n",
    "- Maya Melanesia R (2241720237)"
   ]
  },
  {
   "cell_type": "markdown",
   "metadata": {
    "id": "VoILANQeySvh"
   },
   "source": [
    "# **Jobsheet 10 - Recurrent Neural Network**"
   ]
  },
  {
   "cell_type": "markdown",
   "metadata": {
    "id": "myLNYbF8ycTB"
   },
   "source": [
    "# **Praktikum 1**\n",
    "## RNN untuk Analisis Sentimen\n"
   ]
  },
  {
   "cell_type": "markdown",
   "metadata": {
    "id": "Fah8SHzxyoqA"
   },
   "source": [
    "## **Setup**\n",
    "\n",
    "Impor matplotlib dan buat fungsi pembantu untuk memplot grafik:"
   ]
  },
  {
   "cell_type": "code",
   "execution_count": null,
   "metadata": {
    "id": "dvmx22xXyRbQ"
   },
   "outputs": [],
   "source": [
    "import numpy as np\n",
    "import tensorflow_datasets as tfds\n",
    "import tensorflow as tf\n",
    "\n",
    "tfds.disable_progress_bar()"
   ]
  },
  {
   "cell_type": "code",
   "execution_count": null,
   "metadata": {
    "id": "4qvKnhakywzI"
   },
   "outputs": [],
   "source": [
    "import matplotlib.pyplot as plt\n",
    "\n",
    "def plot_graphs(history, metric):\n",
    " plt.plot(history.history['val_'+metric], '')\n",
    " plt.plot(history.history[metric])\n",
    " plt.xlabel(\"Epochs\")\n",
    " plt.ylabel(metric)\n",
    " plt.legend([metric, 'val_'+metric])"
   ]
  },
  {
   "cell_type": "markdown",
   "metadata": {
    "id": "n47X_O3KyyVm"
   },
   "source": [
    "## **Setup input pipeline**\n",
    "\n",
    "Dataset ulasan film IMDB adalah kumpulan data klasifikasi biner—semua ulasan memiliki sentimen positif atau negatif.\n",
    "\n",
    "Download dataset menggunakan ***TFDS***. Lihat ***loading text tutorial*** jika ingin me load data secara manual"
   ]
  },
  {
   "cell_type": "code",
   "execution_count": null,
   "metadata": {
    "colab": {
     "base_uri": "https://localhost:8080/"
    },
    "id": "h-SvIEMEzNii",
    "outputId": "df514cc5-89f1-410e-fbb0-f354f4867b6b"
   },
   "outputs": [
    {
     "name": "stdout",
     "output_type": "stream",
     "text": [
      "Downloading and preparing dataset 80.23 MiB (download: 80.23 MiB, generated: Unknown size, total: 80.23 MiB) to /root/tensorflow_datasets/imdb_reviews/plain_text/1.0.0...\n",
      "Dataset imdb_reviews downloaded and prepared to /root/tensorflow_datasets/imdb_reviews/plain_text/1.0.0. Subsequent calls will reuse this data.\n"
     ]
    },
    {
     "data": {
      "text/plain": [
       "(TensorSpec(shape=(), dtype=tf.string, name=None),\n",
       " TensorSpec(shape=(), dtype=tf.int64, name=None))"
      ]
     },
     "execution_count": 3,
     "metadata": {},
     "output_type": "execute_result"
    }
   ],
   "source": [
    "dataset, info = tfds.load('imdb_reviews', with_info=True,\n",
    "                          as_supervised=True)\n",
    "train_dataset, test_dataset = dataset['train'], dataset['test']\n",
    "\n",
    "train_dataset.element_spec"
   ]
  },
  {
   "cell_type": "markdown",
   "metadata": {
    "id": "CBklCXCAzOMn"
   },
   "source": [
    "Awalnya ini mengembalikan dataset (teks, pasangan label):"
   ]
  },
  {
   "cell_type": "code",
   "execution_count": null,
   "metadata": {
    "colab": {
     "base_uri": "https://localhost:8080/"
    },
    "id": "WFfjyki6zQQ0",
    "outputId": "446c60c2-865b-49f3-e39e-d0d5173a2dfa"
   },
   "outputs": [
    {
     "name": "stdout",
     "output_type": "stream",
     "text": [
      "text:  b\"This was an absolutely terrible movie. Don't be lured in by Christopher Walken or Michael Ironside. Both are great actors, but this must simply be their worst role in history. Even their great acting could not redeem this movie's ridiculous storyline. This movie is an early nineties US propaganda piece. The most pathetic scenes were those when the Columbian rebels were making their cases for revolutions. Maria Conchita Alonso appeared phony, and her pseudo-love affair with Walken was nothing but a pathetic emotional plug in a movie that was devoid of any real meaning. I am disappointed that there are movies like this, ruining actor's like Christopher Walken's good name. I could barely sit through it.\"\n",
      "label:  0\n"
     ]
    }
   ],
   "source": [
    "for example, label in train_dataset.take(1):\n",
    "  print('text: ', example.numpy())\n",
    "  print('label: ', label.numpy())"
   ]
  },
  {
   "cell_type": "markdown",
   "metadata": {
    "id": "rtH0JGpSzRrO"
   },
   "source": [
    "Berikutnya acak data untuk pelatihan dan membuat kumpulan pasangan (teks, label) ini:"
   ]
  },
  {
   "cell_type": "code",
   "execution_count": null,
   "metadata": {
    "colab": {
     "base_uri": "https://localhost:8080/"
    },
    "id": "Ft4IILqfzTVl",
    "outputId": "c557c924-1d8d-4ec9-b55d-2a6da64ea460"
   },
   "outputs": [
    {
     "name": "stdout",
     "output_type": "stream",
     "text": [
      "texts:  [b\"This film is one of the best of all time, certainly in the horror genre. The claustrophobic atmosphere is outstanding, the music is just as good as the film and the killer is as creepy as can be! Actors are fantastic, RIP Donald Pleasance you were fantastic as Dr Loomis, he made the film even better. Without him the film would be missing a vital ingredient. Jamie Lee Curtis is also superb as our beloved scream queen! Her innocence makes her unaware of the real evil that is after her until she finds her friends grossly murdered in the house, which of course is one of the films best scenes. She gives a tremendous performance. I loved this film since it scared me like hell back when I seen it in the very early 80's and I still watch it to this day as it is a marvellous movie that just brings you in to this world were you could be gutted like a fish at every turn! The fact that it is a simple format of a mad man in a mask whom has escaped from a mental asylum and ready to kill everyone in sight without them having any idea that he is there, is just shockingly terrifying and indulges you even more into the movie as the events though fiction could easily be come true. We all know that unfortunately evil does exist in this world and a mad man with a knife is certainly not uncommon, a very disturbing an deep fear for all of this. Death at any turn. Halloween of course shows this in it's most terrifying way. Horror should be believable, and that is what makes the film enjoyable. It's just a simple story that is made into an excellent and terrifying atmosphere. As well as Psycho's superb storyline, both of which I adore, I believe there formats are the best horror has to offer. To me Halloween and Psycho are the best films I have ever seen and I will watch them all my life and never grow tired of them. Halloween is undoubtedly one of the best movies of all time.\"\n",
      " b\"Nowhere near the original. It's quite accurate copy bringing nothing new to the story. But the directing is very poor. Basinger is weak - without good directing. Baldwin is simply just a second league compared to McQueen. I watched it just out of curiosity, being a huge fan of Peckinpah's masterpiece, and I got what I thought. Almost a B movie with second rate acting and directing. I wasn't even disappointed, I just don't know what they were trying to do. This remake doesn't try to play with the original material, it's not a tribute and indeed it lacks some really good actor of its era.<br /><br />It reminds me of a bad xerox copy of wonderful photograph.<br /><br />This is a complete waste of your time. Save yourself 2 hours or watch the original (again:)))\"\n",
      " b'The Angry Red Planet (Quickie Review) <br /><br />Like \"The Man From Planet X,\" this is a bizarre science fiction tale culled from an era where fantasy and science fiction were still damn near the same thing. Meaning, we have some highly laughable special effects and rampant pseudo-science masquerading as science fiction. And yes, it\\'s another \"classic\" released in a high quality transfer with a crisp picture and sharp sound--by Midnite Movies.<br /><br />So, the main reason to watch this film? Oh, it\\'s definitely the whole time our space crew is on Mars. (What, you thought \"Angry Red Planet\" referred to Neptune?) Prior to that is some rather poor quality space crew boarding a space ship, inside of which they smoke and toss around sexist chauvinistic banter aimed at the \"puny female\" member of the crew. It\\'d be somewhat offensive by today\\'s standards if it weren\\'t so damn funny. But Mars is the real reason we\\'re watching this thing. The film is generally black and white, but Mars, well Mars is screaming bloody red. It\\'s filmed in this bizarre red plasticy sheen giving the angry red planet quite an interesting look of overexposed redness. It\\'s really quite a sight\\xc2\\x97as are the (ha ha) aliens viewers are to witness. The best being the \"ratbatspidercrab.\" You think that\\'s a joke? That\\'s what they call it in the movie! It\\'s a gigantic chimera (small puppet) of a thing combining traits of rats, bats, spiders, and crabs. It bounds along all puppety and scares the sh*t out of our \"heroic crew.\" There are other weird, and poorly imagined, aliens to be seen, but that one takes the cake. Eventually, after their harrowing experience on Mars, the sexist crew boards their \"ship\" and returns to whatever planet it was they came from.<br /><br />This ain\\'t for everyone. Science Fiction film buffs & curiosity seekers, and some general film buffs. Fans of Mystery Science Theater 3000 will have a field day with this one (if they never got to it on the show).<br /><br />2/10 Modern score, 6/10 Nostalgia score, 4/10 overall.<br /><br />(www.ResidentHazard.com)']\n",
      "\n",
      "labels:  [1 0 0]\n"
     ]
    }
   ],
   "source": [
    "BUFFER_SIZE = 10000\n",
    "BATCH_SIZE = 64\n",
    "\n",
    "train_dataset = train_dataset.shuffle(BUFFER_SIZE).batch(BATCH_SIZE).prefetch(tf.data.AUTOTUNE)\n",
    "test_dataset = test_dataset.batch(BATCH_SIZE).prefetch(tf.data.AUTOTUNE)\n",
    "\n",
    "for example, label in train_dataset.take(1):\n",
    "  print('texts: ', example.numpy()[:3])\n",
    "  print()\n",
    "  print('labels: ', label.numpy()[:3])"
   ]
  },
  {
   "cell_type": "markdown",
   "metadata": {
    "id": "U92ocr8ezUfo"
   },
   "source": [
    "## **Buat Teks Encoder**\n",
    "\n",
    "Teks mentah yang dimuat oleh tfds perlu diproses sebelum dapat digunakan dalam model. Cara termudah memproses teks untuk pelatihan adalah menggunakan lapisan TextVectorization. Lapisan ini memiliki banyak kemampuan, namun pada tutorial ini menggunakan perilaku default. Buat lapisan tersebut, dan teruskan teks kumpulan data ke metode .adapt lapisan:"
   ]
  },
  {
   "cell_type": "code",
   "execution_count": null,
   "metadata": {
    "id": "bSWFuokizdfd"
   },
   "outputs": [],
   "source": [
    "VOCAB_SIZE = 1000\n",
    "encoder = tf.keras.layers.TextVectorization(\n",
    "    max_tokens=VOCAB_SIZE)\n",
    "encoder.adapt(train_dataset.map(lambda text, label: text))"
   ]
  },
  {
   "cell_type": "markdown",
   "metadata": {
    "id": "SOCdYeaDzesO"
   },
   "source": [
    "Metode .adapt mengatur kosakata lapisan. 20 token pertama dapat dilihat dengan kode berikut. Setelah padding dan token yang tidak diketahui, mereka diurutkan berdasarkan frekuensi:"
   ]
  },
  {
   "cell_type": "code",
   "execution_count": null,
   "metadata": {
    "colab": {
     "base_uri": "https://localhost:8080/"
    },
    "id": "ktW28yfzzhTG",
    "outputId": "c3612530-2541-4e0a-cc9b-0a18a21dafa4"
   },
   "outputs": [
    {
     "data": {
      "text/plain": [
       "array(['', '[UNK]', 'the', 'and', 'a', 'of', 'to', 'is', 'in', 'it', 'i',\n",
       "       'this', 'that', 'br', 'was', 'as', 'for', 'with', 'movie', 'but'],\n",
       "      dtype='<U14')"
      ]
     },
     "execution_count": 7,
     "metadata": {},
     "output_type": "execute_result"
    }
   ],
   "source": [
    "vocab=np.array(encoder.get_vocabulary())\n",
    "vocab[:20]"
   ]
  },
  {
   "cell_type": "markdown",
   "metadata": {
    "id": "4vxPZkv2zit0"
   },
   "source": [
    "Setelah kosakata diatur, lapisan dapat mengkodekan teks ke dalam indeks. Tensor indeks diberi bantalan 0 ke urutan terpanjang dalam batch (kecuali jika Anda menetapkan output_sequence_length tetap):"
   ]
  },
  {
   "cell_type": "code",
   "execution_count": null,
   "metadata": {
    "colab": {
     "base_uri": "https://localhost:8080/"
    },
    "id": "0wlvo39qzlOV",
    "outputId": "a89596e8-7e4d-4b69-848d-0f4587f9eeaa"
   },
   "outputs": [
    {
     "data": {
      "text/plain": [
       "array([[ 11,  20,   7, ...,   0,   0,   0],\n",
       "       [  1, 779,   2, ...,   0,   0,   0],\n",
       "       [  2,   1, 793, ...,   0,   0,   0]])"
      ]
     },
     "execution_count": 8,
     "metadata": {},
     "output_type": "execute_result"
    }
   ],
   "source": [
    "encoded_example=encoder(example)[:3].numpy()\n",
    "encoded_example"
   ]
  },
  {
   "cell_type": "markdown",
   "metadata": {
    "id": "CDRaaMxuzmzm"
   },
   "source": [
    "Dengan pengaturan default, prosesnya tidak dapat dibalik sepenuhnya. Ada dua alasan utama untuk itu:\n",
    "- Nilai default untuk argumen standarisasi preprocessing.TextVectorization adalah \"lower_and_strip_punctuation\".\n",
    "- Ukuran kosa kata yang terbatas dan kurangnya fallback berbasis karakter menghasilkan beberapa token yang tidak diketahui."
   ]
  },
  {
   "cell_type": "code",
   "execution_count": null,
   "metadata": {
    "colab": {
     "base_uri": "https://localhost:8080/"
    },
    "id": "s-Mfpdx-zsmv",
    "outputId": "796dc333-79dd-4c2b-e16c-f5137688d88f"
   },
   "outputs": [
    {
     "name": "stdout",
     "output_type": "stream",
     "text": [
      "Original:  b\"This film is one of the best of all time, certainly in the horror genre. The claustrophobic atmosphere is outstanding, the music is just as good as the film and the killer is as creepy as can be! Actors are fantastic, RIP Donald Pleasance you were fantastic as Dr Loomis, he made the film even better. Without him the film would be missing a vital ingredient. Jamie Lee Curtis is also superb as our beloved scream queen! Her innocence makes her unaware of the real evil that is after her until she finds her friends grossly murdered in the house, which of course is one of the films best scenes. She gives a tremendous performance. I loved this film since it scared me like hell back when I seen it in the very early 80's and I still watch it to this day as it is a marvellous movie that just brings you in to this world were you could be gutted like a fish at every turn! The fact that it is a simple format of a mad man in a mask whom has escaped from a mental asylum and ready to kill everyone in sight without them having any idea that he is there, is just shockingly terrifying and indulges you even more into the movie as the events though fiction could easily be come true. We all know that unfortunately evil does exist in this world and a mad man with a knife is certainly not uncommon, a very disturbing an deep fear for all of this. Death at any turn. Halloween of course shows this in it's most terrifying way. Horror should be believable, and that is what makes the film enjoyable. It's just a simple story that is made into an excellent and terrifying atmosphere. As well as Psycho's superb storyline, both of which I adore, I believe there formats are the best horror has to offer. To me Halloween and Psycho are the best films I have ever seen and I will watch them all my life and never grow tired of them. Halloween is undoubtedly one of the best movies of all time.\"\n",
      "Round-trip:  this film is one of the best of all time certainly in the horror genre the [UNK] atmosphere is [UNK] the music is just as good as the film and the killer is as creepy as can be actors are fantastic [UNK] [UNK] [UNK] you were fantastic as dr [UNK] he made the film even better without him the film would be missing a [UNK] [UNK] [UNK] lee [UNK] is also superb as our [UNK] [UNK] [UNK] her [UNK] makes her [UNK] of the real evil that is after her until she finds her friends [UNK] [UNK] in the house which of course is one of the films best scenes she gives a [UNK] performance i loved this film since it [UNK] me like hell back when i seen it in the very early 80s and i still watch it to this day as it is a [UNK] movie that just brings you in to this world were you could be [UNK] like a [UNK] at every turn the fact that it is a simple [UNK] of a [UNK] man in a [UNK] whom has [UNK] from a [UNK] [UNK] and [UNK] to kill everyone in [UNK] without them having any idea that he is there is just [UNK] [UNK] and [UNK] you even more into the movie as the events though [UNK] could easily be come true we all know that unfortunately evil does [UNK] in this world and a [UNK] man with a [UNK] is certainly not [UNK] a very [UNK] an deep [UNK] for all of this death at any turn [UNK] of course shows this in its most [UNK] way horror should be believable and that is what makes the film enjoyable its just a simple story that is made into an excellent and [UNK] atmosphere as well as [UNK] superb storyline both of which i [UNK] i believe there [UNK] are the best horror has to [UNK] to me [UNK] and [UNK] are the best films i have ever seen and i will watch them all my life and never [UNK] [UNK] of them [UNK] is [UNK] one of the best movies of all time                                                                                                                                                                                                                                                                                                                                                                                                                                                \n",
      "\n",
      "Original:  b\"Nowhere near the original. It's quite accurate copy bringing nothing new to the story. But the directing is very poor. Basinger is weak - without good directing. Baldwin is simply just a second league compared to McQueen. I watched it just out of curiosity, being a huge fan of Peckinpah's masterpiece, and I got what I thought. Almost a B movie with second rate acting and directing. I wasn't even disappointed, I just don't know what they were trying to do. This remake doesn't try to play with the original material, it's not a tribute and indeed it lacks some really good actor of its era.<br /><br />It reminds me of a bad xerox copy of wonderful photograph.<br /><br />This is a complete waste of your time. Save yourself 2 hours or watch the original (again:)))\"\n",
      "Round-trip:  [UNK] near the original its quite [UNK] [UNK] [UNK] nothing new to the story but the directing is very poor [UNK] is weak without good directing [UNK] is simply just a second [UNK] [UNK] to [UNK] i watched it just out of [UNK] being a huge fan of [UNK] [UNK] and i got what i thought almost a b movie with second [UNK] acting and directing i wasnt even disappointed i just dont know what they were trying to do this remake doesnt try to play with the original material its not a [UNK] and indeed it [UNK] some really good actor of its [UNK] br it [UNK] me of a bad [UNK] [UNK] of wonderful [UNK] br this is a complete waste of your time save yourself 2 hours or watch the original again                                                                                                                                                                                                                                                                                                                                                                                                                                                                                                                                                                                                                                                                                 \n",
      "\n",
      "Original:  b'The Angry Red Planet (Quickie Review) <br /><br />Like \"The Man From Planet X,\" this is a bizarre science fiction tale culled from an era where fantasy and science fiction were still damn near the same thing. Meaning, we have some highly laughable special effects and rampant pseudo-science masquerading as science fiction. And yes, it\\'s another \"classic\" released in a high quality transfer with a crisp picture and sharp sound--by Midnite Movies.<br /><br />So, the main reason to watch this film? Oh, it\\'s definitely the whole time our space crew is on Mars. (What, you thought \"Angry Red Planet\" referred to Neptune?) Prior to that is some rather poor quality space crew boarding a space ship, inside of which they smoke and toss around sexist chauvinistic banter aimed at the \"puny female\" member of the crew. It\\'d be somewhat offensive by today\\'s standards if it weren\\'t so damn funny. But Mars is the real reason we\\'re watching this thing. The film is generally black and white, but Mars, well Mars is screaming bloody red. It\\'s filmed in this bizarre red plasticy sheen giving the angry red planet quite an interesting look of overexposed redness. It\\'s really quite a sight\\xc2\\x97as are the (ha ha) aliens viewers are to witness. The best being the \"ratbatspidercrab.\" You think that\\'s a joke? That\\'s what they call it in the movie! It\\'s a gigantic chimera (small puppet) of a thing combining traits of rats, bats, spiders, and crabs. It bounds along all puppety and scares the sh*t out of our \"heroic crew.\" There are other weird, and poorly imagined, aliens to be seen, but that one takes the cake. Eventually, after their harrowing experience on Mars, the sexist crew boards their \"ship\" and returns to whatever planet it was they came from.<br /><br />This ain\\'t for everyone. Science Fiction film buffs & curiosity seekers, and some general film buffs. Fans of Mystery Science Theater 3000 will have a field day with this one (if they never got to it on the show).<br /><br />2/10 Modern score, 6/10 Nostalgia score, 4/10 overall.<br /><br />(www.ResidentHazard.com)'\n",
      "Round-trip:  the [UNK] red [UNK] [UNK] review br br like the man from [UNK] [UNK] this is a [UNK] [UNK] [UNK] tale [UNK] from an [UNK] where fantasy and [UNK] [UNK] were still [UNK] near the same thing [UNK] we have some highly [UNK] special effects and [UNK] [UNK] [UNK] as [UNK] [UNK] and yes its another classic released in a high quality [UNK] with a [UNK] picture and [UNK] [UNK] [UNK] [UNK] br so the main reason to watch this film oh its definitely the whole time our space [UNK] is on [UNK] what you thought [UNK] red [UNK] [UNK] to [UNK] [UNK] to that is some rather poor quality space [UNK] [UNK] a space [UNK] inside of which they [UNK] and [UNK] around [UNK] [UNK] [UNK] [UNK] at the [UNK] female [UNK] of the [UNK] [UNK] be somewhat [UNK] by [UNK] [UNK] if it [UNK] so [UNK] funny but [UNK] is the real reason were watching this thing the film is [UNK] black and white but [UNK] well [UNK] is [UNK] [UNK] red its filmed in this [UNK] red [UNK] [UNK] giving the [UNK] red [UNK] quite an interesting look of [UNK] [UNK] its really quite a [UNK] are the [UNK] [UNK] [UNK] viewers are to [UNK] the best being the [UNK] you think thats a joke thats what they call it in the movie its a [UNK] [UNK] small [UNK] of a thing [UNK] [UNK] of [UNK] [UNK] [UNK] and [UNK] it [UNK] along all [UNK] and [UNK] the [UNK] out of our [UNK] [UNK] there are other weird and poorly [UNK] [UNK] to be seen but that one takes the [UNK] eventually after their [UNK] experience on [UNK] the [UNK] [UNK] [UNK] their [UNK] and [UNK] to whatever [UNK] it was they came [UNK] br this [UNK] for everyone [UNK] [UNK] film [UNK] [UNK] [UNK] and some general film [UNK] fans of mystery [UNK] theater [UNK] will have a [UNK] day with this one if they never got to it on the [UNK] br [UNK] modern score [UNK] [UNK] score [UNK] [UNK] br [UNK]                                                                                                                                                                                                                                                                                                                                                                                                                                                             \n",
      "\n"
     ]
    }
   ],
   "source": [
    "for n in range(3):\n",
    "  print(\"Original: \", example[n].numpy())\n",
    "  print(\"Round-trip: \", \" \".join(vocab[encoded_example[n]]))\n",
    "  print()"
   ]
  },
  {
   "cell_type": "markdown",
   "metadata": {
    "id": "qRRTM0CUzv-t"
   },
   "source": [
    "## **Buat Model**\n",
    "![image.png](data:image/png;base64,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)"
   ]
  },
  {
   "cell_type": "markdown",
   "metadata": {
    "id": "1SL8OoE70Hbh"
   },
   "source": [
    "---\n",
    "diagram model dapat dilihat pada gambar diatas\n",
    "1. Model ini dapat dibuat sebagai tf.keras.Sequential.\n",
    "2. Lapisan pertama adalah encoder, yang mengubah teks menjadi urutan indeks token.\n",
    "3. Setelah encoder adalah lapisan penyematan (embedding layer). Lapisan penyematan menyimpan satu vektor per kata. Saat dipanggil, ini mengubah rangkaian indeks kata menjadi rangkaian vektor. Vektor-vektor ini dapat dilatih. Setelah pelatihan (dengan data yang cukup), kata-kata dengan arti yang mirip sering kali memiliki vektor yang serupa. Pencarian indeks ini jauh lebih efisien daripada operasi setara dengan meneruskan vektor yang disandikan one-hot melalui lapisan tf.keras.layers.Dense.\n",
    "4. Jaringan saraf berulang (RNN) memproses masukan urutan dengan melakukan iterasi melalui elemen. RNN meneruskan keluaran dari satu langkah waktu ke masukannya pada langkah waktu berikutnya.\n",
    "Pembungkus tf.keras.layers.Bidirection juga dapat digunakan dengan lapisan RNN. Ini menyebarkan masukan maju dan mundur melalui lapisan RNN dan kemudian menggabungkan keluaran akhir.\n",
    "  - Keuntungan utama RNN dua arah adalah sinyal dari awal masukan tidak perlu diproses sepanjang waktu untuk memengaruhi keluaran.\n",
    "  -Kerugian utama dari RNN dua arah adalah Anda tidak dapat melakukan streaming prediksi secara efisien saat kata-kata ditambahkan di akhir.\n",
    "5. Setelah RNN mengonversi urutan menjadi satu vektor, kedua lapisan tersebut.Dense melakukan beberapa pemrosesan akhir, dan mengonversi representasi vektor ini menjadi logit tunggal sebagai keluaran klasifikasi.\n",
    "\n",
    "Kode nya adalah sebagai berikut :\n"
   ]
  },
  {
   "cell_type": "code",
   "execution_count": null,
   "metadata": {
    "id": "LJhvg0Vz0hf7"
   },
   "outputs": [],
   "source": [
    "model = tf.keras.Sequential([\n",
    "    encoder,\n",
    "    tf.keras.layers.Embedding(\n",
    "        input_dim=len(encoder.get_vocabulary()),\n",
    "        output_dim=64,\n",
    "        # Use masking to handle the variable sequence lengths\n",
    "        mask_zero=True),\n",
    "    tf.keras.layers.Bidirectional(tf.keras.layers.LSTM(64)),\n",
    "    tf.keras.layers.Dense(64, activation='relu'),\n",
    "    tf.keras.layers.Dense(1)\n",
    "])"
   ]
  },
  {
   "cell_type": "markdown",
   "metadata": {
    "id": "arKUBjbF0i0P"
   },
   "source": [
    "Harap dicatat bahwa model sekuensial Keras digunakan di sini karena semua lapisan dalam model hanya memiliki masukan tunggal dan menghasilkan keluaran tunggal. Jika Anda ingin menggunakan lapisan RNN stateful, Anda mungkin ingin membangun model Anda dengan API fungsional Keras atau subkelas model sehingga Anda dapat mengambil dan menggunakan kembali status lapisan RNN. Untuk detailnya bisa dilihat pada Keras RNN guide\n",
    "\n",
    "Lapisan penyematan menggunakan masking (uses masking ) untuk menangani panjang urutan yang bervariasi. Semua lapisan setelah penyematan dukungan penyematan"
   ]
  },
  {
   "cell_type": "code",
   "execution_count": null,
   "metadata": {
    "colab": {
     "base_uri": "https://localhost:8080/"
    },
    "id": "MtwlsY4t0omI",
    "outputId": "0ff4a85c-8fcf-42ed-83b2-d6066950e8f0"
   },
   "outputs": [
    {
     "name": "stdout",
     "output_type": "stream",
     "text": [
      "[False, True, True, True, True]\n"
     ]
    }
   ],
   "source": [
    "print([layer.supports_masking for layer in model.layers])"
   ]
  },
  {
   "cell_type": "markdown",
   "metadata": {
    "id": "5jjzPL7d0p7-"
   },
   "source": [
    "Untuk memastikan bahwa ini berfungsi seperti yang diharapkan, evaluasi sebuah kalimat dua kali. Pertama, satu kalimat sehingga tidak ada bantalan (padding) untuk disamarkan:"
   ]
  },
  {
   "cell_type": "code",
   "execution_count": null,
   "metadata": {
    "colab": {
     "base_uri": "https://localhost:8080/"
    },
    "id": "Dzyb6U3g0roa",
    "outputId": "1da97bf8-159c-448d-a553-b089cf0ec2f8"
   },
   "outputs": [
    {
     "name": "stdout",
     "output_type": "stream",
     "text": [
      "1/1 [==============================] - 11s 11s/step\n",
      "[-0.00821364]\n"
     ]
    }
   ],
   "source": [
    "# predict on a sample text without padding.\n",
    "\n",
    "sample_text = ('The movie was cool. The animation and the graphics '\n",
    "               'were out of this world. I would recommend this movie.')\n",
    "predictions = model.predict(np.array([sample_text]))\n",
    "print(predictions[0])"
   ]
  },
  {
   "cell_type": "markdown",
   "metadata": {
    "id": "r_ilUpKO0uYe"
   },
   "source": [
    "Sekarang, evaluasi lagi dalam batch dengan kalimat yang lebih panjang. Hasilnya harus sama:"
   ]
  },
  {
   "cell_type": "code",
   "execution_count": null,
   "metadata": {
    "colab": {
     "base_uri": "https://localhost:8080/"
    },
    "id": "VBnlXI5A0vAv",
    "outputId": "8e94d7e4-b8fb-46a7-f9a4-d91c7a649fdc"
   },
   "outputs": [
    {
     "name": "stdout",
     "output_type": "stream",
     "text": [
      "1/1 [==============================] - 0s 63ms/step\n",
      "[-0.00821364]\n"
     ]
    }
   ],
   "source": [
    "# predict on a sample text with padding\n",
    "\n",
    "padding = \"the \" * 2000\n",
    "predictions = model.predict(np.array([sample_text, padding]))\n",
    "print(predictions[0])"
   ]
  },
  {
   "cell_type": "markdown",
   "metadata": {
    "id": "8zokkpJU0wms"
   },
   "source": [
    "compile model Keras untuk mengonfigurasi proses pelatihan:"
   ]
  },
  {
   "cell_type": "code",
   "execution_count": null,
   "metadata": {
    "id": "kEXsX9SQ0y58"
   },
   "outputs": [],
   "source": [
    "model.compile(loss=tf.keras.losses.BinaryCrossentropy(from_logits=True),\n",
    "              optimizer=tf.keras.optimizers.Adam(1e-4),\n",
    "              metrics=['accuracy'])"
   ]
  },
  {
   "cell_type": "markdown",
   "metadata": {
    "id": "5t-jeen900gM"
   },
   "source": [
    "## **Train Model**"
   ]
  },
  {
   "cell_type": "code",
   "execution_count": null,
   "metadata": {
    "colab": {
     "base_uri": "https://localhost:8080/"
    },
    "id": "gQwNXv5C05AY",
    "outputId": "896183c9-8742-40eb-d580-b2d98f9023ce"
   },
   "outputs": [
    {
     "name": "stdout",
     "output_type": "stream",
     "text": [
      "Epoch 1/10\n",
      "391/391 [==============================] - 53s 108ms/step - loss: 0.6653 - accuracy: 0.5328 - val_loss: 0.5567 - val_accuracy: 0.7135\n",
      "Epoch 2/10\n",
      "391/391 [==============================] - 28s 70ms/step - loss: 0.4448 - accuracy: 0.7833 - val_loss: 0.3854 - val_accuracy: 0.8318\n",
      "Epoch 3/10\n",
      "391/391 [==============================] - 26s 65ms/step - loss: 0.3553 - accuracy: 0.8368 - val_loss: 0.3545 - val_accuracy: 0.8349\n",
      "Epoch 4/10\n",
      "391/391 [==============================] - 25s 65ms/step - loss: 0.3289 - accuracy: 0.8556 - val_loss: 0.3388 - val_accuracy: 0.8349\n",
      "Epoch 5/10\n",
      "391/391 [==============================] - 26s 67ms/step - loss: 0.3146 - accuracy: 0.8622 - val_loss: 0.3270 - val_accuracy: 0.8630\n",
      "Epoch 6/10\n",
      "391/391 [==============================] - 25s 64ms/step - loss: 0.3067 - accuracy: 0.8681 - val_loss: 0.3434 - val_accuracy: 0.8380\n",
      "Epoch 7/10\n",
      "391/391 [==============================] - 26s 67ms/step - loss: 0.3016 - accuracy: 0.8698 - val_loss: 0.3279 - val_accuracy: 0.8620\n",
      "Epoch 8/10\n",
      "391/391 [==============================] - 26s 66ms/step - loss: 0.2978 - accuracy: 0.8722 - val_loss: 0.3321 - val_accuracy: 0.8438\n",
      "Epoch 9/10\n",
      "391/391 [==============================] - 26s 66ms/step - loss: 0.2966 - accuracy: 0.8731 - val_loss: 0.3201 - val_accuracy: 0.8630\n",
      "Epoch 10/10\n",
      "391/391 [==============================] - 26s 67ms/step - loss: 0.2922 - accuracy: 0.8751 - val_loss: 0.3200 - val_accuracy: 0.8531\n"
     ]
    }
   ],
   "source": [
    "history = model.fit(train_dataset,\n",
    "                    epochs=10,\n",
    "                    validation_data=test_dataset,\n",
    "                    validation_steps=30)"
   ]
  },
  {
   "cell_type": "code",
   "execution_count": null,
   "metadata": {
    "colab": {
     "base_uri": "https://localhost:8080/"
    },
    "id": "FuTmpf1105hV",
    "outputId": "cb214a8d-a956-4ed6-fecc-8ab032b9c882"
   },
   "outputs": [
    {
     "name": "stdout",
     "output_type": "stream",
     "text": [
      "391/391 [==============================] - 14s 36ms/step - loss: 0.3148 - accuracy: 0.8531\n",
      "Test Loss: 0.31477493047714233\n",
      "Test Accuracy: 0.8530799746513367\n"
     ]
    }
   ],
   "source": [
    "test_loss, test_acc = model.evaluate(test_dataset)\n",
    "\n",
    "print('Test Loss:', test_loss)\n",
    "print('Test Accuracy:', test_acc)"
   ]
  },
  {
   "cell_type": "code",
   "execution_count": null,
   "metadata": {
    "colab": {
     "base_uri": "https://localhost:8080/",
     "height": 655
    },
    "id": "OL8mcYgH06au",
    "outputId": "681e7795-3296-4560-aa71-68322073f62b"
   },
   "outputs": [
    {
     "data": {
      "text/plain": [
       "(0.0, 0.6839039519429206)"
      ]
     },
     "execution_count": 17,
     "metadata": {},
     "output_type": "execute_result"
    },
    {
     "data": {
      "image/png": "[encoded data removed]",
      "text/plain": [
       "<Figure size 1600x800 with 2 Axes>"
      ]
     },
     "metadata": {},
     "output_type": "display_data"
    }
   ],
   "source": [
    "plt.figure(figsize=(16, 8))\n",
    "plt.subplot(1, 2, 1)\n",
    "plot_graphs(history, 'accuracy')\n",
    "plt.ylim(None, 1)\n",
    "plt.subplot(1, 2, 2)\n",
    "plot_graphs(history, 'loss')\n",
    "plt.ylim(0, None)"
   ]
  },
  {
   "cell_type": "markdown",
   "metadata": {
    "id": "qGWbRBe307zW"
   },
   "source": [
    "Jalankan prediksi pada kalimat baru:\n",
    "\n",
    "Jika prediksi >= 0,0 berarti positif, jika tidak maka negatif."
   ]
  },
  {
   "cell_type": "code",
   "execution_count": null,
   "metadata": {
    "colab": {
     "base_uri": "https://localhost:8080/"
    },
    "id": "wRJR1jl40_LP",
    "outputId": "88405282-ba60-4f10-c7bd-ed5aa60087b3"
   },
   "outputs": [
    {
     "name": "stdout",
     "output_type": "stream",
     "text": [
      "1/1 [==============================] - 3s 3s/step\n"
     ]
    }
   ],
   "source": [
    "sample_text = ('The movie was cool. The animation and the graphics '\n",
    "               'were out of this world. I would recommend this movie.')\n",
    "\n",
    "# Assuming 'model' is properly defined and compiled\n",
    "predictions = model.predict(np.array([sample_text]))"
   ]
  },
  {
   "cell_type": "markdown",
   "metadata": {
    "id": "Ruflg3sz1BrU"
   },
   "source": [
    "## Stack two or more LSTM layers\n",
    "Lapisan berulang Keras memiliki dua mode yang tersedia yang dikontrol oleh argumen konstruktor return_sequences :\n",
    "- Jika False, ia hanya mengembalikan keluaran terakhir untuk setiap urutan masukan (bentuk tensor 2D (batch_size, output_features)). Ini adalah default yang digunakan pada model sebelumnya.\n",
    "- Jika True, Sequence lengkap output berturut-turut untuk setiap langkah waktu dikembalikan (bentuk tensor 3D (ukuran_batch, langkah waktu, fitur_output)).\n",
    "\n",
    "Berikut adalah alur informasi dengan return_sequences=True:\n",
    "\n",
    "![image.png](data:image/png;base64,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)\n",
    "\n",
    "Hal yang menarik dari penggunaan RNN dengan return_sequences=True adalah outputnya masih memiliki 3 axis, sama seperti inputnya, sehingga bisa diteruskan ke layer RNN lain, seperti ini:"
   ]
  },
  {
   "cell_type": "code",
   "execution_count": null,
   "metadata": {
    "id": "-2NX_LRj1QAU"
   },
   "outputs": [],
   "source": [
    "model = tf.keras.Sequential([\n",
    "    encoder,\n",
    "    tf.keras.layers.Embedding(len(encoder.get_vocabulary()), 64, mask_zero=True),\n",
    "    tf.keras.layers.Bidirectional(tf.keras.layers.LSTM(64, return_sequences=True)),\n",
    "    tf.keras.layers.Bidirectional(tf.keras.layers.LSTM(32)),\n",
    "    tf.keras.layers.Dense(64, activation='relu'),\n",
    "    tf.keras.layers.Dropout(0.5),\n",
    "    tf.keras.layers.Dense(1)\n",
    "])"
   ]
  },
  {
   "cell_type": "code",
   "execution_count": null,
   "metadata": {
    "id": "oTRYVy5J1Xh-"
   },
   "outputs": [],
   "source": [
    "model.compile(loss=tf.keras.losses.BinaryCrossentropy(from_logits=True),\n",
    "              optimizer=tf.keras.optimizers.Adam(1e-4),\n",
    "              metrics=['accuracy'])"
   ]
  },
  {
   "cell_type": "code",
   "execution_count": null,
   "metadata": {
    "colab": {
     "base_uri": "https://localhost:8080/"
    },
    "id": "oxHhPGr21Zvy",
    "outputId": "79b28bc1-4c9d-44f8-9e2e-34a576717792"
   },
   "outputs": [
    {
     "name": "stdout",
     "output_type": "stream",
     "text": [
      "Epoch 1/10\n",
      "391/391 [==============================] - 80s 160ms/step - loss: 0.6123 - accuracy: 0.5980 - val_loss: 0.4224 - val_accuracy: 0.8141\n",
      "Epoch 2/10\n",
      "391/391 [==============================] - 49s 124ms/step - loss: 0.3798 - accuracy: 0.8328 - val_loss: 0.3620 - val_accuracy: 0.8167\n",
      "Epoch 3/10\n",
      "391/391 [==============================] - 49s 124ms/step - loss: 0.3336 - accuracy: 0.8574 - val_loss: 0.3295 - val_accuracy: 0.8589\n",
      "Epoch 4/10\n",
      "391/391 [==============================] - 49s 126ms/step - loss: 0.3254 - accuracy: 0.8610 - val_loss: 0.3241 - val_accuracy: 0.8573\n",
      "Epoch 5/10\n",
      "391/391 [==============================] - 50s 127ms/step - loss: 0.3133 - accuracy: 0.8672 - val_loss: 0.3241 - val_accuracy: 0.8609\n",
      "Epoch 6/10\n",
      "391/391 [==============================] - 48s 121ms/step - loss: 0.3081 - accuracy: 0.8683 - val_loss: 0.3236 - val_accuracy: 0.8667\n",
      "Epoch 7/10\n",
      "391/391 [==============================] - 49s 125ms/step - loss: 0.3061 - accuracy: 0.8672 - val_loss: 0.3191 - val_accuracy: 0.8526\n",
      "Epoch 8/10\n",
      "391/391 [==============================] - 49s 125ms/step - loss: 0.3021 - accuracy: 0.8716 - val_loss: 0.3186 - val_accuracy: 0.8552\n",
      "Epoch 9/10\n",
      "391/391 [==============================] - 50s 127ms/step - loss: 0.2972 - accuracy: 0.8706 - val_loss: 0.3173 - val_accuracy: 0.8599\n",
      "Epoch 10/10\n",
      "391/391 [==============================] - 49s 125ms/step - loss: 0.2971 - accuracy: 0.8717 - val_loss: 0.3201 - val_accuracy: 0.8573\n"
     ]
    }
   ],
   "source": [
    "history = model.fit(train_dataset, epochs=10, validation_data=test_dataset, validation_steps=30)"
   ]
  },
  {
   "cell_type": "code",
   "execution_count": null,
   "metadata": {
    "colab": {
     "base_uri": "https://localhost:8080/"
    },
    "id": "tuIUqS9c1dPg",
    "outputId": "f45e65e2-ffe0-407b-e553-a3d981c2b4ae"
   },
   "outputs": [
    {
     "name": "stdout",
     "output_type": "stream",
     "text": [
      "391/391 [==============================] - 21s 53ms/step - loss: 0.3154 - accuracy: 0.8598\n",
      "Test Loss: 0.3154260516166687\n",
      "Test Accuracy: 0.8598399758338928\n"
     ]
    }
   ],
   "source": [
    "test_loss, test_acc = model.evaluate(test_dataset)\n",
    "\n",
    "print('Test Loss:', test_loss)\n",
    "print('Test Accuracy:', test_acc)"
   ]
  },
  {
   "cell_type": "code",
   "execution_count": null,
   "metadata": {
    "colab": {
     "base_uri": "https://localhost:8080/"
    },
    "id": "qmaRUNNT1dWe",
    "outputId": "2f140bc2-ed9b-4d5b-9fbb-8087b3358ece"
   },
   "outputs": [
    {
     "name": "stdout",
     "output_type": "stream",
     "text": [
      "1/1 [==============================] - 6s 6s/step\n",
      "[[-1.9027026]]\n"
     ]
    }
   ],
   "source": [
    "# predict on a sample text without padding.\n",
    "\n",
    "sample_text = ('The movie was not good. The animation and the graphics were terrible. I would not recommend this movie.')\n",
    "predictions = model.predict(np.array([sample_text]))\n",
    "print(predictions)"
   ]
  },
  {
   "cell_type": "code",
   "execution_count": null,
   "metadata": {
    "colab": {
     "base_uri": "https://localhost:8080/",
     "height": 490
    },
    "id": "w4s3MdIF1flx",
    "outputId": "547b7721-badc-461c-ce42-dfab24c724c3"
   },
   "outputs": [
    {
     "data": {
      "image/png": "[encoded data removed]",
      "text/plain": [
       "<Figure size 1600x600 with 2 Axes>"
      ]
     },
     "metadata": {},
     "output_type": "display_data"
    }
   ],
   "source": [
    "plt.figure(figsize=(16, 6))\n",
    "plt.subplot(1, 2, 1)\n",
    "plot_graphs(history, 'accuracy')\n",
    "plt.subplot(1, 2, 2)\n",
    "plot_graphs(history, 'loss')"
   ]
  },
  {
   "cell_type": "markdown",
   "metadata": {
    "id": "l0dDlys81lmt"
   },
   "source": [
    "# **Praktikum 2**\n",
    "## Generator Teks dengan RNN\n",
    "Praktikum ini mendemonstrasikan cara melakukan genearsi text menggunakan RNN. Dataset yang digunkan adalah dataset Shakespeare's writing from Andrej Karpathy's The Unreasonable Effectiveness of Recurrent Neural Networks. Jika diberikan urutan karakter dari data ini (\"Shakespear\"), latih model untuk memprediksi karakter berikutnya dalam urutan (\"e\"). Urutan teks yang lebih panjang dapat dihasilkan dengan memanggil model berulang kali.\n",
    "Note: Enable GPU acceleration to execute this notebook faster. In Colab: Runtime > Change runtime type > Hardware accelerator > GPU.\n",
    "Tutorial ini menggunakan tf.keras dan eager execution. Berikut adalah contoh output ketika model dalam tutorial ini dilatih selama 30 epoch, dan dimulai dengan prompt \"Q\":\n"
   ]
  },
  {
   "cell_type": "markdown",
   "metadata": {
    "id": "23XmocE517UB"
   },
   "source": [
    "\n",
    "\n",
    "```\n",
    "# QUEENE:\n",
    "I had thought thou hadst a Roman; for the oracle,\n",
    "Thus by All bids the man against the word,\n",
    "Which are so weak of care, by old care done;\n",
    "Your children were in your holy love,\n",
    "And the precipitation through the bleeding throne.\n",
    "\n",
    "BISHOP OF ELY:\n",
    "Marry, and will, my lord, to weep in such a one were prettiest;\n",
    "Yet now I was adopted heir\n",
    "Of the world's lamentable day,\n",
    "To watch the next way with his father with his face?\n",
    "\n",
    "ESCALUS:\n",
    "The cause why then we are all resolved more sons.\n",
    "\n",
    "VOLUMNIA:\n",
    "O, no, no, no, no, no, no, no, no, no, no, no, no, no, no, no, no, no, no, no, no, it is no sin it should be dead,\n",
    "And love and pale as any will to that word.\n",
    "\n",
    "QUEEN ELIZABETH:\n",
    "But how long have I heard the soul for this world,\n",
    "And show his hands of life be proved to stand.\n",
    "\n",
    "PETRUCHIO:\n",
    "I say he look'd on, if I must be content\n",
    "To stay him from the fatal of our country's bliss.\n",
    "His lordship pluck'd from this sentence then for prey,\n",
    "And then let us twain, being the moon,\n",
    "were she such a case as fills m\n",
    "```\n",
    "\n"
   ]
  },
  {
   "cell_type": "markdown",
   "metadata": {
    "id": "iJHV88Zm2IZ0"
   },
   "source": [
    "Meskipun beberapa kalimat memiliki tata bahasa, sebagian besar tidak masuk akal. Model belum mempelajari arti kata-kata, namun anggap saja:\n",
    "- Modelnya berbasis karakter. Saat pelatihan dimulai, model tidak mengetahui cara mengeja kata dalam bahasa Inggris, atau bahkan kata-kata tersebut merupakan satuan teks.\n",
    "- Struktur keluarannya menyerupai sandiwara—blok teks umumnya dimulai dengan nama pembicara, dengan huruf kapital semua mirip dengan kumpulan data.\n",
    "- Seperti yang ditunjukkan di bawah, model dilatih pada kumpulan teks kecil (masing-masing 100 karakter), dan masih mampu menghasilkan rangkaian teks yang lebih panjang dengan struktur yang koheren."
   ]
  },
  {
   "cell_type": "markdown",
   "metadata": {
    "id": "fplIGlnx2Lo3"
   },
   "source": [
    "---\n",
    "## Setup\n",
    "---\n",
    "\n",
    "\n"
   ]
  },
  {
   "cell_type": "markdown",
   "metadata": {
    "id": "gNgG8CSx2eOq"
   },
   "source": [
    "**Import TensorFlow**"
   ]
  },
  {
   "cell_type": "code",
   "execution_count": null,
   "metadata": {
    "id": "eXzs7w3Q2gZX"
   },
   "outputs": [],
   "source": [
    "import tensorflow as tf\n",
    "import numpy as np\n",
    "import os\n",
    "import time"
   ]
  },
  {
   "cell_type": "markdown",
   "metadata": {
    "id": "rTUSa84v2h2F"
   },
   "source": [
    "**Download Dataset Shakespeare**\n",
    "Sesuaikan dengan lokasi data yang Anda punya."
   ]
  },
  {
   "cell_type": "code",
   "execution_count": null,
   "metadata": {
    "id": "lcJTJv5a2oOv"
   },
   "outputs": [],
   "source": [
    "path_to_file=tf.keras.utils.get_file('shakespeare.txt',\n",
    "                                     'https://storage.googleapis.com/download.tensorflow.org/data/shakespeare.txt')\n"
   ]
  },
  {
   "cell_type": "markdown",
   "metadata": {
    "id": "M-GnWSUa2pvu"
   },
   "source": [
    "**Load Data**"
   ]
  },
  {
   "cell_type": "code",
   "execution_count": null,
   "metadata": {
    "colab": {
     "base_uri": "https://localhost:8080/"
    },
    "id": "oalRZhrV2sLA",
    "outputId": "47871b78-89b9-4666-ff0f-5466eb8e6816"
   },
   "outputs": [
    {
     "name": "stdout",
     "output_type": "stream",
     "text": [
      "Length of text: 1115394 characters\n"
     ]
    }
   ],
   "source": [
    "# Read, then decode for py2 compat.\n",
    "text = open(path_to_file, 'rb').read().decode(encoding='utf-8')\n",
    "# length of text is the number of characters in it\n",
    "print(f'Length of text: {len(text)} characters')"
   ]
  },
  {
   "cell_type": "code",
   "execution_count": null,
   "metadata": {
    "colab": {
     "base_uri": "https://localhost:8080/"
    },
    "id": "UiynVtc42tNn",
    "outputId": "d37bbdb3-2d6a-4f92-9daf-26dd759897a7"
   },
   "outputs": [
    {
     "name": "stdout",
     "output_type": "stream",
     "text": [
      "First Citizen:\n",
      "Before we proceed any further, hear me speak.\n",
      "\n",
      "All:\n",
      "Speak, speak.\n",
      "\n",
      "First Citizen:\n",
      "You are all resolved rather to die than to famish?\n",
      "\n",
      "All:\n",
      "Resolved. resolved.\n",
      "\n",
      "First Citizen:\n",
      "First, you know Caius Marcius is chief enemy to the people.\n",
      "\n"
     ]
    }
   ],
   "source": [
    "# Take a look at the first 250 characters in text\n",
    "print(text[:250])"
   ]
  },
  {
   "cell_type": "code",
   "execution_count": null,
   "metadata": {
    "colab": {
     "base_uri": "https://localhost:8080/"
    },
    "id": "f6V4pvc_2uKN",
    "outputId": "9fbf5ea2-7bf4-43fc-f4cb-06659b6af1ad"
   },
   "outputs": [
    {
     "name": "stdout",
     "output_type": "stream",
     "text": [
      "65 unique characters\n"
     ]
    }
   ],
   "source": [
    "# The unique characters in the file\n",
    "vocab = sorted(set(text))\n",
    "print(f'{len(vocab)} unique characters')"
   ]
  },
  {
   "cell_type": "markdown",
   "metadata": {
    "id": "YkHXAM5q2vux"
   },
   "source": [
    "---\n",
    "## **Olah Teks**\n",
    "---\n",
    "\n",
    "**Vectorize Teks**\n",
    "\n",
    "Sebelum training, Anda perlu mengonversi string menjadi representasi numerik. tf.keras.layers.StringLookup dapat mengubah setiap karakter menjadi ID numerik. Caranya adalah teks akan dipecah menjadi token terlebih dahulu."
   ]
  },
  {
   "cell_type": "code",
   "execution_count": null,
   "metadata": {
    "colab": {
     "base_uri": "https://localhost:8080/"
    },
    "id": "2MYYxtno27Zc",
    "outputId": "8f3c1bf1-279d-4030-cd64-92cd3c833836"
   },
   "outputs": [
    {
     "data": {
      "text/plain": [
       "<tf.RaggedTensor [[b'a', b'b', b'c', b'd', b'e', b'f', b'g'], [b'x', b'y', b'z']]>"
      ]
     },
     "execution_count": 32,
     "metadata": {},
     "output_type": "execute_result"
    }
   ],
   "source": [
    "example_texts=['abcdefg',\n",
    "               'xyz']\n",
    "chars=tf.strings.unicode_split(example_texts,\n",
    "                               input_encoding='UTF-8')\n",
    "chars"
   ]
  },
  {
   "cell_type": "markdown",
   "metadata": {
    "id": "IkKndmMJ28_j"
   },
   "source": [
    "sekarang buat tf.keras.layers.StringLookup layer:"
   ]
  },
  {
   "cell_type": "code",
   "execution_count": null,
   "metadata": {
    "id": "X_ptaYuw29mJ"
   },
   "outputs": [],
   "source": [
    "ids_from_chars = tf.keras.layers.StringLookup(vocabulary=list(vocab), mask_token=None)"
   ]
  },
  {
   "cell_type": "markdown",
   "metadata": {
    "id": "V-_SA51v2-0l"
   },
   "source": [
    "perintah diatas mengconvert token menjadi id"
   ]
  },
  {
   "cell_type": "code",
   "execution_count": null,
   "metadata": {
    "colab": {
     "base_uri": "https://localhost:8080/"
    },
    "id": "fO5S4rxs3BXW",
    "outputId": "c88170f3-61ab-45a9-b165-ecd9e4f9f114"
   },
   "outputs": [
    {
     "data": {
      "text/plain": [
       "<tf.RaggedTensor [[40, 41, 42, 43, 44, 45, 46], [63, 64, 65]]>"
      ]
     },
     "execution_count": 34,
     "metadata": {},
     "output_type": "execute_result"
    }
   ],
   "source": [
    "ids=ids_from_chars(chars)\n",
    "ids"
   ]
  },
  {
   "cell_type": "markdown",
   "metadata": {
    "id": "xf2DJ5ek3FI7"
   },
   "source": [
    "Karena tujuan tutorial ini adalah untuk menghasilkan teks, penting juga untuk membalikkan representasi ini. Untuk ini Anda dapat menggunakan kode tf.keras.layers.StringLookup(..., invert=True).\n",
    "\n",
    "Catatan: pada kode ini, daripada meneruskan kosakata asli yang dihasilkan dengan diurutkan(set(teks)) gunakan metode get_vocabulary() dari tf.keras.layers.StringLookup sehingga token [UNK] disetel dengan cara yang sama."
   ]
  },
  {
   "cell_type": "code",
   "execution_count": null,
   "metadata": {
    "id": "ZlYXlBt73IO_"
   },
   "outputs": [],
   "source": [
    "chars_from_ids = tf.keras.layers.StringLookup(\n",
    "    vocabulary=ids_from_chars.get_vocabulary(), invert=True, mask_token=None)"
   ]
  },
  {
   "cell_type": "markdown",
   "metadata": {
    "id": "PpYR6zUm3K3b"
   },
   "source": [
    "Lapisan ini mengconvert kembali karakter dari vektor ID, dan mengembalikannya sebagai karakter tf.RaggedTensor:"
   ]
  },
  {
   "cell_type": "code",
   "execution_count": null,
   "metadata": {
    "colab": {
     "base_uri": "https://localhost:8080/"
    },
    "id": "V5Rce8T73LdG",
    "outputId": "46ce54ac-e6ba-4c0c-e8cd-b65ab513cad3"
   },
   "outputs": [
    {
     "data": {
      "text/plain": [
       "<tf.RaggedTensor [[b'a', b'b', b'c', b'd', b'e', b'f', b'g'], [b'x', b'y', b'z']]>"
      ]
     },
     "execution_count": 36,
     "metadata": {},
     "output_type": "execute_result"
    }
   ],
   "source": [
    "chars=chars_from_ids(ids)\n",
    "chars"
   ]
  },
  {
   "cell_type": "markdown",
   "metadata": {
    "id": "91Kq04ys3Oyd"
   },
   "source": [
    "Anda dapat menggunakan tf.strings.reduce_join untuk menggabungkan kembali karakter menjadi string."
   ]
  },
  {
   "cell_type": "code",
   "execution_count": null,
   "metadata": {
    "colab": {
     "base_uri": "https://localhost:8080/"
    },
    "id": "Y9p-AxiB3MnA",
    "outputId": "2e96fb35-683f-4eb4-c927-c8b9edb438bd"
   },
   "outputs": [
    {
     "data": {
      "text/plain": [
       "array([b'abcdefg', b'xyz'], dtype=object)"
      ]
     },
     "execution_count": 37,
     "metadata": {},
     "output_type": "execute_result"
    }
   ],
   "source": [
    "tf.strings.reduce_join(chars,axis=-1).numpy()"
   ]
  },
  {
   "cell_type": "code",
   "execution_count": null,
   "metadata": {
    "id": "yT0fnzIT3Rnt"
   },
   "outputs": [],
   "source": [
    "def text_from_ids(ids):\n",
    "    return tf.strings.reduce_join(chars_from_ids(ids), axis=-1)"
   ]
  },
  {
   "cell_type": "markdown",
   "metadata": {
    "id": "E678hxj73XHO"
   },
   "source": [
    "**Prediksi**\n",
    "\n",
    "Diberikan sebuah karakter, atau serangkaian karakter, karakter apa yang paling mungkin berikutnya? Ini adalah tugas yang harus Anda latih agar model dapat melakukannya. Masukan ke model akan berupa urutan karakter, dan Anda melatih model untuk memprediksi keluaran berupa karakter berikut pada setiap langkah waktu. Karena RNN mempertahankan keadaan internal yang bergantung pada elemen yang terlihat sebelumnya, mengingat semua karakter dihitung hingga saat ini, karakter apa selanjutnya?\n",
    "\n",
    "**Membuat Trianing Set dan Target**\n",
    "\n",
    "Selanjutnya bagilah teks menjadi contoh sequence. Setiap masukan sequence akan berisi karakter seq_length dari teks. Untuk setiap masukan sequence, target prediksi berisi teks dengan panjang yang sama, hanya digeser satu karakter ke kanan. Jadi, bagi teks menjadi beberapa bagian seq_length+1. Misalnya, seq_length adalah 4 dan teks kita adalah \"Hello\". Urutan masukannya adalah \"Hell\", dan urutan targetnya adalah \"ello\". Untuk melakukan ini, pertama-tama gunakan fungsi tf.data.Dataset.from_tensor_slices untuk mengonversi vektor teks menjadi aliran indeks karakter."
   ]
  },
  {
   "cell_type": "code",
   "execution_count": null,
   "metadata": {
    "colab": {
     "base_uri": "https://localhost:8080/"
    },
    "id": "XJSJqtZ93cLz",
    "outputId": "9fbc0f56-a0de-4f64-9925-6d7eb6739806"
   },
   "outputs": [
    {
     "data": {
      "text/plain": [
       "<tf.Tensor: shape=(1115394,), dtype=int64, numpy=array([19, 48, 57, ..., 46,  9,  1])>"
      ]
     },
     "execution_count": 39,
     "metadata": {},
     "output_type": "execute_result"
    }
   ],
   "source": [
    "all_ids = ids_from_chars(tf.strings.unicode_split(text, 'UTF-8'))\n",
    "all_ids"
   ]
  },
  {
   "cell_type": "code",
   "execution_count": null,
   "metadata": {
    "id": "ZmfA0hjN3cSn"
   },
   "outputs": [],
   "source": [
    "ids_dataset = tf.data.Dataset.from_tensor_slices(all_ids)"
   ]
  },
  {
   "cell_type": "code",
   "execution_count": null,
   "metadata": {
    "colab": {
     "base_uri": "https://localhost:8080/"
    },
    "id": "Jdjur6zO3eiL",
    "outputId": "a97206d1-bf57-42b2-e9d7-1a0c14eca78b"
   },
   "outputs": [
    {
     "name": "stdout",
     "output_type": "stream",
     "text": [
      "F\n",
      "i\n",
      "r\n",
      "s\n",
      "t\n",
      " \n",
      "C\n",
      "i\n",
      "t\n",
      "i\n"
     ]
    }
   ],
   "source": [
    "for ids in ids_dataset.take(10):\n",
    "    print(chars_from_ids(ids).numpy().decode('utf-8'))"
   ]
  },
  {
   "cell_type": "code",
   "execution_count": null,
   "metadata": {
    "id": "n42ltNmS3f4i"
   },
   "outputs": [],
   "source": [
    "seq_length = 100"
   ]
  },
  {
   "cell_type": "markdown",
   "metadata": {
    "id": "EX3GGmA83kI2"
   },
   "source": [
    "Metode batch memungkinkan Anda dengan mudah mengonversi karakter individual ini menjadi urutan ukuran yang diinginkan."
   ]
  },
  {
   "cell_type": "code",
   "execution_count": null,
   "metadata": {
    "colab": {
     "base_uri": "https://localhost:8080/"
    },
    "id": "J8cUt-SP3kzK",
    "outputId": "a1dcad81-efa2-4b03-b0bc-2249b5faef8e"
   },
   "outputs": [
    {
     "name": "stdout",
     "output_type": "stream",
     "text": [
      "tf.Tensor(\n",
      "[b'F' b'i' b'r' b's' b't' b' ' b'C' b'i' b't' b'i' b'z' b'e' b'n' b':'\n",
      " b'\\n' b'B' b'e' b'f' b'o' b'r' b'e' b' ' b'w' b'e' b' ' b'p' b'r' b'o'\n",
      " b'c' b'e' b'e' b'd' b' ' b'a' b'n' b'y' b' ' b'f' b'u' b'r' b't' b'h'\n",
      " b'e' b'r' b',' b' ' b'h' b'e' b'a' b'r' b' ' b'm' b'e' b' ' b's' b'p'\n",
      " b'e' b'a' b'k' b'.' b'\\n' b'\\n' b'A' b'l' b'l' b':' b'\\n' b'S' b'p' b'e'\n",
      " b'a' b'k' b',' b' ' b's' b'p' b'e' b'a' b'k' b'.' b'\\n' b'\\n' b'F' b'i'\n",
      " b'r' b's' b't' b' ' b'C' b'i' b't' b'i' b'z' b'e' b'n' b':' b'\\n' b'Y'\n",
      " b'o' b'u' b' '], shape=(101,), dtype=string)\n"
     ]
    }
   ],
   "source": [
    "sequences = ids_dataset.batch(seq_length+1, drop_remainder=True)\n",
    "\n",
    "for seq in sequences.take(1):\n",
    "  print(chars_from_ids(seq))"
   ]
  },
  {
   "cell_type": "markdown",
   "metadata": {
    "id": "voVo3-xq3oEh"
   },
   "source": [
    "akan lebih mudah untuk melihat apa yang dilakukan jika Anda menggabungkan token kembali menjadi string:"
   ]
  },
  {
   "cell_type": "code",
   "execution_count": null,
   "metadata": {
    "colab": {
     "base_uri": "https://localhost:8080/"
    },
    "id": "_kqOUqPP3osZ",
    "outputId": "11912283-2d86-4436-d604-53f3a9a692f9"
   },
   "outputs": [
    {
     "name": "stdout",
     "output_type": "stream",
     "text": [
      "b'First Citizen:\\nBefore we proceed any further, hear me speak.\\n\\nAll:\\nSpeak, speak.\\n\\nFirst Citizen:\\nYou '\n",
      "b'are all resolved rather to die than to famish?\\n\\nAll:\\nResolved. resolved.\\n\\nFirst Citizen:\\nFirst, you k'\n",
      "b\"now Caius Marcius is chief enemy to the people.\\n\\nAll:\\nWe know't, we know't.\\n\\nFirst Citizen:\\nLet us ki\"\n",
      "b\"ll him, and we'll have corn at our own price.\\nIs't a verdict?\\n\\nAll:\\nNo more talking on't; let it be d\"\n",
      "b'one: away, away!\\n\\nSecond Citizen:\\nOne word, good citizens.\\n\\nFirst Citizen:\\nWe are accounted poor citi'\n"
     ]
    }
   ],
   "source": [
    "for seq in sequences.take(5):\n",
    "    print(text_from_ids(seq).numpy())"
   ]
  },
  {
   "cell_type": "markdown",
   "metadata": {
    "id": "zYxJuqpx3su_"
   },
   "source": [
    "Untuk pelatihan, Anda memerlukan kumpulan data pasangan (input, label). Dimana input dan label merupakan urutan. Pada setiap langkah waktu, inputnya adalah karakter saat ini dan labelnya adalah karakter berikutnya. Berikut adalah fungsi yang mengambil urutan sebagai masukan, menduplikasi, dan menggesernya untuk menyelaraskan masukan dan label untuk setiap langkah waktu:"
   ]
  },
  {
   "cell_type": "code",
   "execution_count": null,
   "metadata": {
    "id": "ihko0x713xAp"
   },
   "outputs": [],
   "source": [
    "def split_input_target(sequence):\n",
    "    input_text = sequence[:-1]\n",
    "    target_text = sequence[1:]\n",
    "    return input_text, target_text"
   ]
  },
  {
   "cell_type": "code",
   "execution_count": null,
   "metadata": {
    "colab": {
     "base_uri": "https://localhost:8080/"
    },
    "id": "d2erdkyV3xq4",
    "outputId": "778daa64-2a64-4882-d829-af8b451b06cd"
   },
   "outputs": [
    {
     "data": {
      "text/plain": [
       "(['T', 'e', 'n', 's', 'o', 'r', 'f', 'l', 'o'],\n",
       " ['e', 'n', 's', 'o', 'r', 'f', 'l', 'o', 'w'])"
      ]
     },
     "execution_count": 46,
     "metadata": {},
     "output_type": "execute_result"
    }
   ],
   "source": [
    "split_input_target(list(\"Tensorflow\"))"
   ]
  },
  {
   "cell_type": "code",
   "execution_count": null,
   "metadata": {
    "id": "5g0Pjz8m3y84"
   },
   "outputs": [],
   "source": [
    "dataset = sequences.map(split_input_target)"
   ]
  },
  {
   "cell_type": "code",
   "execution_count": null,
   "metadata": {
    "colab": {
     "base_uri": "https://localhost:8080/"
    },
    "id": "JRMOWyAi30f5",
    "outputId": "a586a9fb-6fb0-442a-8b9d-d91d64bbe835"
   },
   "outputs": [
    {
     "name": "stdout",
     "output_type": "stream",
     "text": [
      "Input : b'First Citizen:\\nBefore we proceed any further, hear me speak.\\n\\nAll:\\nSpeak, speak.\\n\\nFirst Citizen:\\nYou'\n",
      "Target: b'irst Citizen:\\nBefore we proceed any further, hear me speak.\\n\\nAll:\\nSpeak, speak.\\n\\nFirst Citizen:\\nYou '\n"
     ]
    }
   ],
   "source": [
    "for input_example, target_example in dataset.take(1):\n",
    "    print(\"Input :\", text_from_ids(input_example).numpy())\n",
    "    print(\"Target:\", text_from_ids(target_example).numpy())"
   ]
  },
  {
   "cell_type": "markdown",
   "metadata": {
    "id": "2S3SfNhI31mB"
   },
   "source": [
    "**Membuat Batch Training**\n",
    "\n",
    "Anda menggunakan tf.data untuk membagi teks menjadi sequence yang dapat diatur. Namun sebelum memasukkan data ini ke dalam model, Anda perlu mengacak data dan mengemasnya ke dalam batch."
   ]
  },
  {
   "cell_type": "code",
   "execution_count": null,
   "metadata": {
    "colab": {
     "base_uri": "https://localhost:8080/"
    },
    "id": "Qc-rQWqQ34Op",
    "outputId": "f56c1831-9331-400a-8353-28f448658ae9"
   },
   "outputs": [
    {
     "data": {
      "text/plain": [
       "<_PrefetchDataset element_spec=(TensorSpec(shape=(64, 100), dtype=tf.int64, name=None), TensorSpec(shape=(64, 100), dtype=tf.int64, name=None))>"
      ]
     },
     "execution_count": 49,
     "metadata": {},
     "output_type": "execute_result"
    }
   ],
   "source": [
    "# Batch size\n",
    "BATCH_SIZE = 64\n",
    "\n",
    "# Buffer size to shuffle the dataset\n",
    "# (TF data is designed to work with possibly infinite sequences,\n",
    "# so it doesn't attempt to shuffle the entire sequence in memory. Instead,\n",
    "# it maintains a buffer in which it shuffles elements).\n",
    "BUFFER_SIZE = 10000\n",
    "\n",
    "dataset = (\n",
    "    dataset\n",
    "    .shuffle(BUFFER_SIZE)\n",
    "    .batch(BATCH_SIZE, drop_remainder=True)\n",
    "    .prefetch(tf.data.experimental.AUTOTUNE))\n",
    "\n",
    "dataset"
   ]
  },
  {
   "cell_type": "markdown",
   "metadata": {
    "id": "xFydbj3i35kJ"
   },
   "source": [
    "---\n",
    "## **Buat Model**\n",
    "---\n",
    "Bagian ini mendefinisikan model sebagai subkelas keras.Model (untuk lebih detilnya, lihat Making new Layers and Models via subclassing).\n",
    "\n",
    "Model yang kita bangun memiliki 3 lapisan neural network :\n",
    "- tf.keras.layers.Embedding: Lapisan masukan. Tabel pencarian yang dapat dilatih yang akan memetakan setiap karakter-ID ke vektor dengan dimensi embedding_dim;\n",
    "- tf.keras.layers.GRU: lapisan RNN dengan ukuran unit=rnn_units (Anda juga dapat menggunakan lapisan LSTM di sini.)\n",
    "- tf.keras.layers.Dense: Lapisan keluaran, dengan keluaran vocab_size. Ini menghasilkan satu logit untuk setiap karakter dalam kosakata. Ini adalah log kemungkinan setiap karakter menurut model."
   ]
  },
  {
   "cell_type": "code",
   "execution_count": null,
   "metadata": {
    "id": "eNQoyQPU4JMW"
   },
   "outputs": [],
   "source": [
    "# Length of the vocabulary in StringLookup Layer\n",
    "vocab_size = len(ids_from_chars.get_vocabulary())\n",
    "\n",
    "# The embedding dimension\n",
    "embedding_dim = 256\n",
    "\n",
    "# Number of RNN units\n",
    "rnn_units = 1024"
   ]
  },
  {
   "cell_type": "code",
   "execution_count": null,
   "metadata": {
    "id": "6ISJ_Sb84KP5"
   },
   "outputs": [],
   "source": [
    "class MyModel(tf.keras.Model):\n",
    "  def __init__(self, vocab_size, embedding_dim, rnn_units):\n",
    "    super().__init__(self)\n",
    "    self.embedding = tf.keras.layers.Embedding(vocab_size, embedding_dim)\n",
    "    self.gru = tf.keras.layers.GRU(rnn_units,\n",
    "                                   return_sequences=True,\n",
    "                                   return_state=True)\n",
    "    self.dense = tf.keras.layers.Dense(vocab_size)\n",
    "\n",
    "  def call(self, inputs, states=None, return_state=False, training=False):\n",
    "    x = inputs\n",
    "    x = self.embedding(x, training=training)\n",
    "    if states is None:\n",
    "      states = self.gru.get_initial_state(x)\n",
    "    x, states = self.gru(x, initial_state=states, training=training)\n",
    "    x = self.dense(x, training=training)\n",
    "\n",
    "    if return_state:\n",
    "      return x, states\n",
    "    else:\n",
    "      return x"
   ]
  },
  {
   "cell_type": "code",
   "execution_count": null,
   "metadata": {
    "id": "25TDTWco4Mr2"
   },
   "outputs": [],
   "source": [
    "model = MyModel(\n",
    "    vocab_size=vocab_size,\n",
    "    embedding_dim=embedding_dim,\n",
    "    rnn_units=rnn_units)"
   ]
  },
  {
   "cell_type": "markdown",
   "metadata": {
    "id": "DeZN5kwO4PBN"
   },
   "source": [
    "Untuk setiap karakter, model mencari penyematan, menjalankan GRU satu langkah waktu dengan penyematan sebagai masukan, dan menerapkan dense layer untuk menghasilkan log yang memprediksi kemungkinan log karakter berikutnya:\n",
    "\n",
    "![image.png](data:image/png;base64,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)\n",
    "\n",
    "Note: Untuk pelatihan Anda bisa menggunakan model keras.Sequential di sini. Untuk menghasilkan teks nanti, Anda harus mengelola status internal RNN. Akan lebih mudah untuk memasukkan opsi input dan output status di awal, daripada mengatur ulang arsitektur model nanti. untuk detailnya bisa dilihat Keras RNN guide."
   ]
  },
  {
   "cell_type": "markdown",
   "metadata": {
    "id": "xqcv-RfJ4ey3"
   },
   "source": [
    "## **Uji Model**\n",
    "Coba jalankan model dan cek apakah sidah sesuai dengan output\n",
    "pertama, cek bentuk dari output"
   ]
  },
  {
   "cell_type": "code",
   "execution_count": null,
   "metadata": {
    "colab": {
     "base_uri": "https://localhost:8080/"
    },
    "id": "E760_kAM4b0N",
    "outputId": "495d803f-0de7-4776-a793-2872a65f4ea1"
   },
   "outputs": [
    {
     "name": "stdout",
     "output_type": "stream",
     "text": [
      "(64, 100, 66) # (batch_size, sequence_length, vocab_size)\n"
     ]
    }
   ],
   "source": [
    "for input_example_batch, target_example_batch in dataset.take(1):\n",
    "    example_batch_predictions = model(input_example_batch)\n",
    "    print(example_batch_predictions.shape, \"# (batch_size, sequence_length, vocab_size)\")"
   ]
  },
  {
   "cell_type": "markdown",
   "metadata": {
    "id": "M38ztM_i4mxg"
   },
   "source": [
    "Dalam contoh di atas, panjang urutan masukan adalah 100 tetapi model dapat dijalankan pada masukan dengan panjang berapa pun:"
   ]
  },
  {
   "cell_type": "code",
   "execution_count": null,
   "metadata": {
    "colab": {
     "base_uri": "https://localhost:8080/"
    },
    "id": "u4e2WMRX4nUQ",
    "outputId": "8c3f460c-1b74-4429-f6b9-ff2946057c71"
   },
   "outputs": [
    {
     "name": "stdout",
     "output_type": "stream",
     "text": [
      "Model: \"my_model\"\n",
      "_________________________________________________________________\n",
      " Layer (type)                Output Shape              Param #   \n",
      "=================================================================\n",
      " embedding_2 (Embedding)     multiple                  16896     \n",
      "                                                                 \n",
      " gru (GRU)                   multiple                  3938304   \n",
      "                                                                 \n",
      " dense_4 (Dense)             multiple                  67650     \n",
      "                                                                 \n",
      "=================================================================\n",
      "Total params: 4022850 (15.35 MB)\n",
      "Trainable params: 4022850 (15.35 MB)\n",
      "Non-trainable params: 0 (0.00 Byte)\n",
      "_________________________________________________________________\n"
     ]
    }
   ],
   "source": [
    "model.summary()"
   ]
  },
  {
   "cell_type": "markdown",
   "metadata": {
    "id": "q1vkqbmw4onx"
   },
   "source": [
    "Untuk mendapatkan prediksi aktual dari model, Anda perlu mengambil sampel dari distribusi keluaran, untuk mendapatkan indeks karakter aktual. Distribusi ini ditentukan oleh logit pada kosakata karakter. Catatan: Penting untuk mengambil sampel dari distribusi ini karena mengambil argmax dari distribusi tersebut dapat dengan mudah membuat model terjebak dalam infinote loop. Cobalah untuk contoh pertama di batch:"
   ]
  },
  {
   "cell_type": "code",
   "execution_count": null,
   "metadata": {
    "id": "87i8W0564qYL"
   },
   "outputs": [],
   "source": [
    "sampled_indices = tf.random.categorical(example_batch_predictions[0], num_samples=1)\n",
    "sampled_indices = tf.squeeze(sampled_indices, axis=-1).numpy()"
   ]
  },
  {
   "cell_type": "markdown",
   "metadata": {
    "id": "88btevDa4rrD"
   },
   "source": [
    "Hal ini memberi kita, pada setiap langkah waktu, prediksi indeks karakter berikutnya:"
   ]
  },
  {
   "cell_type": "code",
   "execution_count": null,
   "metadata": {
    "colab": {
     "base_uri": "https://localhost:8080/"
    },
    "id": "wqirgwRI4tzt",
    "outputId": "b180ac64-4128-4a91-e711-6c34acbf60f0"
   },
   "outputs": [
    {
     "data": {
      "text/plain": [
       "array([40,  0, 36, 63, 57, 46, 63, 22, 52, 56,  1,  0, 22,  8, 56,  1, 35,\n",
       "       43,  7, 57, 30,  5, 58, 25, 49,  1, 43,  2, 33, 34, 47, 41, 24, 17,\n",
       "        2, 59, 24,  3, 61, 62,  4, 17, 40, 34,  7, 44, 39, 30, 62, 58, 12,\n",
       "       33, 56, 12, 64, 15,  8, 43, 10, 31, 17, 54, 14, 22, 16, 33,  9, 40,\n",
       "       41, 33, 19,  1, 13,  8, 10, 18, 50, 62, 55, 49,  4, 17, 33, 37, 32,\n",
       "       25, 38, 10, 22, 36, 55, 11, 21, 36, 56, 28, 61, 45, 33, 44])"
      ]
     },
     "execution_count": 56,
     "metadata": {},
     "output_type": "execute_result"
    }
   ],
   "source": [
    "sampled_indices"
   ]
  },
  {
   "cell_type": "markdown",
   "metadata": {
    "id": "1sQL4j3r4vFC"
   },
   "source": [
    "Dekode kode berikut untuk melihat teks yang diprediksi oleh model tidak terlatih ini:"
   ]
  },
  {
   "cell_type": "code",
   "execution_count": null,
   "metadata": {
    "colab": {
     "base_uri": "https://localhost:8080/"
    },
    "id": "tiJUbcoZ4xL_",
    "outputId": "737f4499-311e-46d6-c42c-b551dee03f6f"
   },
   "outputs": [
    {
     "name": "stdout",
     "output_type": "stream",
     "text": [
      "Input:\n",
      " b'\\nOf watery Neptune, is now bound in with shame,\\nWith inky blots and rotten parchment bonds:\\nThat Eng'\n",
      "\n",
      "Next Char Predictions:\n",
      " b'a[UNK]WxrgxImq\\n[UNK]I-q\\nVd,rQ&sLj\\nd TUhbKD tK!vw$DaU,eZQws;Tq;yB-d3RDoAICT.abTF\\n?-3Ekwpj$DTXSLY3IWp:HWqOvfTe'\n"
     ]
    }
   ],
   "source": [
    "print(\"Input:\\n\", text_from_ids(input_example_batch[0]).numpy())\n",
    "print()\n",
    "print(\"Next Char Predictions:\\n\", text_from_ids(sampled_indices).numpy())"
   ]
  },
  {
   "cell_type": "markdown",
   "metadata": {
    "id": "kuQc_4DU48Hu"
   },
   "source": [
    "## **Train Model**\n",
    "Pada titik ini permasalahan dapat dianggap sebagai permasalahan klasifikasi standar. Permasalahan dapat disimpulkan dengan : Berdasarkan status RNN sebelumnya, dan masukan langkah kali ini, prediksi kelas karakter berikutnya.\n",
    "\n",
    "**Tambahan optimizer dan fungsi loss**\n",
    "\n",
    "loss function tf.keras.losses.sparse_categorical_crossentropy standar berfungsi dalam kasus ini karena diterapkan di seluruh dimensi terakhir prediksi. Karena model Anda mengembalikan logits, Anda perlu mengatur flag from_logits."
   ]
  },
  {
   "cell_type": "code",
   "execution_count": null,
   "metadata": {
    "id": "oCP8lyW75DM4"
   },
   "outputs": [],
   "source": [
    "loss = tf.losses.SparseCategoricalCrossentropy(from_logits=True)"
   ]
  },
  {
   "cell_type": "code",
   "execution_count": null,
   "metadata": {
    "colab": {
     "base_uri": "https://localhost:8080/"
    },
    "id": "g2TmIDVC5E1G",
    "outputId": "81f526ed-11cb-4303-8073-c0041c5ff071"
   },
   "outputs": [
    {
     "name": "stdout",
     "output_type": "stream",
     "text": [
      "Prediction shape:  (64, 100, 66)  # (batch_size, sequence_length, vocab_size)\n",
      "Mean loss:         tf.Tensor(4.188922, shape=(), dtype=float32)\n"
     ]
    }
   ],
   "source": [
    "example_batch_mean_loss = loss(target_example_batch, example_batch_predictions)\n",
    "print(\"Prediction shape: \", example_batch_predictions.shape, \" # (batch_size, sequence_length, vocab_size)\")\n",
    "print(\"Mean loss:        \", example_batch_mean_loss)"
   ]
  },
  {
   "cell_type": "markdown",
   "metadata": {
    "id": "tJJrDoqW5GyA"
   },
   "source": [
    "Model yang baru diinisialisasi tidak boleh terlalu yakin dengan dirinya sendiri, semua log keluaran harus memiliki besaran yang sama. Untuk mengonfirmasi hal ini, Anda dapat memeriksa bahwa eksponensial dari loss rata-rata harus kira-kira sama dengan ukuran kosakata. Loss yang jauh lebih tinggi berarti model tersebut yakin akan jawaban yang salah, dan memiliki inisialisasi yang buruk:"
   ]
  },
  {
   "cell_type": "code",
   "execution_count": null,
   "metadata": {
    "colab": {
     "base_uri": "https://localhost:8080/"
    },
    "id": "qgWbjLdq5HYM",
    "outputId": "68cfbe88-4e0f-42ea-85bc-e1c933428bf1"
   },
   "outputs": [
    {
     "data": {
      "text/plain": [
       "65.95165"
      ]
     },
     "execution_count": 60,
     "metadata": {},
     "output_type": "execute_result"
    }
   ],
   "source": [
    "tf.exp(example_batch_mean_loss).numpy()"
   ]
  },
  {
   "cell_type": "markdown",
   "metadata": {
    "id": "IdlHO1On5LYo"
   },
   "source": [
    "Konfigurasikan prosedur pelatihan menggunakan metode tf.keras.Model.compile. Gunakan tf.keras.optimizers.Adam dengan argumen default dan fungsi loss."
   ]
  },
  {
   "cell_type": "code",
   "execution_count": null,
   "metadata": {
    "id": "lbmcPbVb5Izh"
   },
   "outputs": [],
   "source": [
    "model.compile(optimizer='adam', loss=loss)"
   ]
  },
  {
   "cell_type": "markdown",
   "metadata": {
    "id": "atrFHefb5N6i"
   },
   "source": [
    "**Konfigurasi Checkpoints**\n",
    "\n",
    "Gunakan tf.keras.callbacks.ModelCheckpoint untuk memastikan bahwa checkpoint disimpan selama pelatihan:"
   ]
  },
  {
   "cell_type": "code",
   "execution_count": null,
   "metadata": {
    "id": "tDBxj0Z35RPi"
   },
   "outputs": [],
   "source": [
    "# Directory where the checkpoints will be saved\n",
    "checkpoint_dir = './training_checkpoints'\n",
    "# Name of the checkpoint files\n",
    "checkpoint_prefix = os.path.join(checkpoint_dir, \"ckpt_{epoch}\")\n",
    "\n",
    "checkpoint_callback = tf.keras.callbacks.ModelCheckpoint(\n",
    "    filepath=checkpoint_prefix,\n",
    "    save_weights_only=True)"
   ]
  },
  {
   "cell_type": "markdown",
   "metadata": {
    "id": "uEER69X_5Ujv"
   },
   "source": [
    "**Lakukan Proses Training**\n",
    "\n",
    "Agar waktu pelatihan tidak terlalu lama, gunakan 10 epoch untuk melatih model. Di Colab, setel runtime ke GPU untuk pelatihan yang lebih cepat."
   ]
  },
  {
   "cell_type": "code",
   "execution_count": null,
   "metadata": {
    "id": "9JN1S24F5Wpm"
   },
   "outputs": [],
   "source": [
    "EPOCHS = 20"
   ]
  },
  {
   "cell_type": "code",
   "execution_count": null,
   "metadata": {
    "colab": {
     "base_uri": "https://localhost:8080/"
    },
    "id": "uH9690fC5X8e",
    "outputId": "77913b5b-d4a7-4d4c-815f-d9349d86eda8"
   },
   "outputs": [
    {
     "name": "stdout",
     "output_type": "stream",
     "text": [
      "Epoch 1/20\n",
      "172/172 [==============================] - 16s 64ms/step - loss: 2.7144\n",
      "Epoch 2/20\n",
      "172/172 [==============================] - 12s 61ms/step - loss: 1.9824\n",
      "Epoch 3/20\n",
      "172/172 [==============================] - 12s 62ms/step - loss: 1.7048\n",
      "Epoch 4/20\n",
      "172/172 [==============================] - 12s 61ms/step - loss: 1.5442\n",
      "Epoch 5/20\n",
      "172/172 [==============================] - 12s 61ms/step - loss: 1.4457\n",
      "Epoch 6/20\n",
      "172/172 [==============================] - 12s 62ms/step - loss: 1.3780\n",
      "Epoch 7/20\n",
      "172/172 [==============================] - 12s 62ms/step - loss: 1.3260\n",
      "Epoch 8/20\n",
      "172/172 [==============================] - 12s 61ms/step - loss: 1.2813\n",
      "Epoch 9/20\n",
      "172/172 [==============================] - 12s 61ms/step - loss: 1.2402\n",
      "Epoch 10/20\n",
      "172/172 [==============================] - 12s 61ms/step - loss: 1.2003\n",
      "Epoch 11/20\n",
      "172/172 [==============================] - 13s 62ms/step - loss: 1.1606\n",
      "Epoch 12/20\n",
      "172/172 [==============================] - 13s 62ms/step - loss: 1.1190\n",
      "Epoch 13/20\n",
      "172/172 [==============================] - 13s 62ms/step - loss: 1.0750\n",
      "Epoch 14/20\n",
      "172/172 [==============================] - 13s 62ms/step - loss: 1.0288\n",
      "Epoch 15/20\n",
      "172/172 [==============================] - 12s 62ms/step - loss: 0.9802\n",
      "Epoch 16/20\n",
      "172/172 [==============================] - 12s 61ms/step - loss: 0.9284\n",
      "Epoch 17/20\n",
      "172/172 [==============================] - 12s 62ms/step - loss: 0.8767\n",
      "Epoch 18/20\n",
      "172/172 [==============================] - 12s 61ms/step - loss: 0.8239\n",
      "Epoch 19/20\n",
      "172/172 [==============================] - 12s 61ms/step - loss: 0.7730\n",
      "Epoch 20/20\n",
      "172/172 [==============================] - 12s 61ms/step - loss: 0.7264\n"
     ]
    }
   ],
   "source": [
    "history = model.fit(dataset, epochs=EPOCHS, callbacks=[checkpoint_callback])"
   ]
  },
  {
   "cell_type": "markdown",
   "metadata": {
    "id": "N7QT7QoB5a2c"
   },
   "source": [
    "## **Generate Teks**\n",
    "\n",
    "Cara termudah untuk menghasilkan teks dengan model ini adalah dengan menjalankannya dalam loop, dan menyimpan status internal model saat Anda menjalankannya.\n",
    "\n",
    "![image.png](data:image/png;base64,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)\n",
    "\n",
    "Setiap kali Anda memanggil model, Anda memasukkan beberapa teks dan state internal. Model mengembalikan prediksi untuk karakter berikutnya dan state barunya. Masukkan kembali prediksi dan state ke model untuk terus menghasilkan teks.\n",
    "\n",
    "Berikut ini membuat prediksi satu langkah:"
   ]
  },
  {
   "cell_type": "code",
   "execution_count": null,
   "metadata": {
    "id": "SVO5FXYX5qqr"
   },
   "outputs": [],
   "source": [
    "class OneStep(tf.keras.Model):\n",
    "  def __init__(self, model, chars_from_ids, ids_from_chars, temperature=1.0):\n",
    "    super().__init__()\n",
    "    self.temperature = temperature\n",
    "    self.model = model\n",
    "    self.chars_from_ids = chars_from_ids\n",
    "    self.ids_from_chars = ids_from_chars\n",
    "\n",
    "    # Create a mask to prevent \"[UNK]\" from being generated.\n",
    "    skip_ids = self.ids_from_chars(['[UNK]'])[:, None]\n",
    "    sparse_mask = tf.SparseTensor(\n",
    "        # Put a -inf at each bad index.\n",
    "        values=[-float('inf')]*len(skip_ids),\n",
    "        indices=skip_ids,\n",
    "        # Match the shape to the vocabulary\n",
    "        dense_shape=[len(ids_from_chars.get_vocabulary())])\n",
    "    self.prediction_mask = tf.sparse.to_dense(sparse_mask)\n",
    "\n",
    "  @tf.function\n",
    "  def generate_one_step(self, inputs, states=None):\n",
    "    # Convert strings to token IDs.\n",
    "    input_chars = tf.strings.unicode_split(inputs, 'UTF-8')\n",
    "    input_ids = self.ids_from_chars(input_chars).to_tensor()\n",
    "\n",
    "    # Run the model.\n",
    "    # predicted_logits.shape is [batch, char, next_char_logits]\n",
    "    predicted_logits, states = self.model(inputs=input_ids, states=states,\n",
    "                                          return_state=True)\n",
    "    # Only use the last prediction.\n",
    "    predicted_logits = predicted_logits[:, -1, :]\n",
    "    predicted_logits = predicted_logits/self.temperature\n",
    "    # Apply the prediction mask: prevent \"[UNK]\" from being generated.\n",
    "    predicted_logits = predicted_logits + self.prediction_mask\n",
    "\n",
    "    # Sample the output logits to generate token IDs.\n",
    "    predicted_ids = tf.random.categorical(predicted_logits, num_samples=1)\n",
    "    predicted_ids = tf.squeeze(predicted_ids, axis=-1)\n",
    "\n",
    "    # Convert from token ids to characters\n",
    "    predicted_chars = self.chars_from_ids(predicted_ids)\n",
    "\n",
    "    # Return the characters and model state.\n",
    "    return predicted_chars, states"
   ]
  },
  {
   "cell_type": "code",
   "execution_count": null,
   "metadata": {
    "id": "_725Zycf5uGs"
   },
   "outputs": [],
   "source": [
    "one_step_model = OneStep(model, chars_from_ids, ids_from_chars)"
   ]
  },
  {
   "cell_type": "markdown",
   "metadata": {
    "id": "jXzrYZQr5uiA"
   },
   "source": [
    "Jalankan secara berulang untuk menghasilkan beberapa teks. Melihat teks yang dihasilkan, Anda akan melihat model mengetahui kapan harus menggunakan huruf besar, membuat paragraf, dan meniru kosakata menulis seperti Shakespeare. Karena sedikitnya jumlah epoch pelatihan, model belum belajar membentuk kalimat runtut."
   ]
  },
  {
   "cell_type": "code",
   "execution_count": null,
   "metadata": {
    "colab": {
     "base_uri": "https://localhost:8080/"
    },
    "id": "uuQg9qdD5x3w",
    "outputId": "35bdded2-977a-4803-be4b-ea87d7cb0462"
   },
   "outputs": [
    {
     "name": "stdout",
     "output_type": "stream",
     "text": [
      "ROMEO:\n",
      "Gentlemen to her: but I was abided\n",
      "To greet his grieving sweet nor law; 'tis vent\n",
      "out of the pretty legs of victory: this is wonder\n",
      "so much more pleasing their father.\n",
      "\n",
      "HASTINGS:\n",
      "Go, give me mistage.\n",
      "\n",
      "BENVOLIO:\n",
      "Madam, the king shall do not go to us.\n",
      "Your friends and this misgrabis blood,\n",
      "The goldness was on a doom in this dishonour\n",
      "Than gone to joy, or rescue fall like of Tybalt?\n",
      "I cannot tell me, if I had dierced,\n",
      "And do not like the clouds that make parts\n",
      "The singul of the selves of the Montagues\n",
      "Regels vow Northumberland, ask'd the king\n",
      "'OMARY,\n",
      "Bloody to perrow, to die to marry them;\n",
      "That none shall have all these I dispersed\n",
      "That made my piece of majesty, and I have slander\n",
      "The blood is that our lasting cheeks by warling\n",
      "such whilst.\n",
      "\n",
      "VOLUMNIA:\n",
      "I must is spoken, all toile!\n",
      "In all despite fines of Northumberland,\n",
      "Where dwelling Jeast is violent forth;\n",
      "And there be mile; and come forthwitts\n",
      "That did my hand that lives of tears,\n",
      "In his own contract, his father From the cause of?\n",
      "For  \n",
      "\n",
      "________________________________________________________________________________\n",
      "\n",
      "Run time: 3.614401340484619\n"
     ]
    }
   ],
   "source": [
    "start = time.time()\n",
    "states = None\n",
    "next_char = tf.constant(['ROMEO:'])\n",
    "result = [next_char]\n",
    "\n",
    "for n in range(1000):\n",
    "  next_char, states = one_step_model.generate_one_step(next_char, states=states)\n",
    "  result.append(next_char)\n",
    "\n",
    "result = tf.strings.join(result)\n",
    "end = time.time()\n",
    "print(result[0].numpy().decode('utf-8'), '\\n\\n' + '_'*80)\n",
    "print('\\nRun time:', end - start)"
   ]
  },
  {
   "cell_type": "markdown",
   "metadata": {
    "id": "5dEPH0aR5zGF"
   },
   "source": [
    "Hal termudah yang dapat Anda lakukan untuk meningkatkan hasil adalah dengan melatihnya lebih lama (coba EPOCHS = 30). Anda juga dapat bereksperimen dengan string awal yang berbeda, mencoba menambahkan lapisan RNN lain untuk meningkatkan akurasi model, atau menyesuaikan parameter suhu untuk menghasilkan prediksi yang kurang lebih acak.\n",
    "\n",
    "Jika Anda ingin model menghasilkan teks lebih cepat, hal termudah yang dapat Anda lakukan adalah membuat teks secara batch. Pada contoh di bawah, model menghasilkan 5 keluaran dalam waktu yang hampir sama dengan waktu yang dibutuhkan untuk menghasilkan 1 keluaran di atas."
   ]
  },
  {
   "cell_type": "code",
   "execution_count": null,
   "metadata": {
    "colab": {
     "base_uri": "https://localhost:8080/"
    },
    "id": "erOGKY5P52Dj",
    "outputId": "ccafd3a4-071e-4e5e-83d5-c781a696df3d"
   },
   "outputs": [
    {
     "name": "stdout",
     "output_type": "stream",
     "text": [
      "tf.Tensor(\n",
      "[b\"ROMEO:\\nI saw no respect now.\\n\\nSpepard:\\nSo long as hear\\nAs to 'S to jest send-me. I have not wont\\nTo do them grow: be rouble a fall of him.\\nBefore this bastard be pinish'd!\\nIf thou be mercil, that made I heard the field\\nAnd tot your body to soon away swift Florizel\\nAnd trembling blood! O Lady Johe, this noble corse,\\nAs if I weep, whiles you have heard no holy:\\nAnd all boots that paced and end this,\\nwhich now comes to my son, who ladest me here,\\nWithout mine honour.\\n\\nServant:\\nHe has it I o'erward.\\n\\nLOONE:\\nThen fair counsel, like your trumper, hast thou meet him,\\nThat none reseet you these shouldst them on your voices:\\nSay you are gracious heart! a sentence open of her proud abroad,\\nIs't not my life? I dream not for it.\\nThat dog-barr's blood to harm and exposed\\nThese foul thunderings, showing themselves\\nTheir lifes she wash'd our largess on him.\\n\\nLADY CAPULET:\\nSuch a waspate hence!\\n\\nPAULINA:\\nFie, fie!\\n\\nRICHARD:\\nAway with her! or if you were so content I wast before\\nCambio to prison, hie thee hu\"\n",
      " b\"ROMEO:\\nWhy dost thou not live to say: I would he had been!\\n\\nNurse:\\nOut she, to use me lie, in what I perjury\\nTo put you to your Lord out of his abreasy:\\nI must and what o'clock to thee,\\nWhat would be a myster by?\\n\\nBRAKENBURY:\\nI think that made a fool, and from the wind appliare.\\nSea, from me, vesty! thou liest.\\nI crave no incrudited.\\n\\nPROSPERO:\\n\\nKING HENRY VI:\\nWhy lions wave relay to be book and his friend,\\nThat thou desperatest; indeed in the sun.\\nWhy for our city Lucil, doth from the table of the king?\\n\\nVIICENIEL:\\nI razed that from the very burden of the news.\\n\\nGLOUCESTER:\\nClarence weep what he would feel upon calumny\\nTo seem to thee against. Thou desir's 'I ton,\\nHe should have heard you find for Richmond\\nAnd Richard lay come from by pervicious all;\\nIn them ne'er be my grave; to o'er redumedy councils\\nWith gentle cords will we come hither.\\n\\nCORIOLANUS:\\nAy, that's the note of one hand,\\nThomas Montague, deliver me a\\nmost vile--vitted on a dream to\\nexcelling the stones of the deed.\\n\\nSenator:\\n\"\n",
      " b\"ROMEO:\\nI'll tell thee in the mallain of men:\\n'Tis very true, go you to the sea\\nAnd worm abbarquined to remigh from shee:\\nBring forth manneral.\\n\\nMENENIUS:\\nWell, what will they make us?\\n\\nPROSPERO:\\nNay, then,\\nGod ang Juliet back again;\\nOr him I knew nothing look'd into your head.\\n\\nROMEO:\\n\\nJULIET:\\nAmong the sense is coming.\\n\\nTRUMIO:\\nAnd who should have made the Duke of Naples,\\nTheir noise is an it himself would, I know not,\\nDreadful head, and I dress'd the nurse of Petruchio hath\\nTo greet my muth and here depart all wears of heaven.\\nThat of your haviar stoem your friends,' quoth he, 'ithal\\nCall it not. Your highness so out\\nThat he be gone; no more but merrilish women\\nAre o' the king's shipp'd consuls, but not in thee;\\nIf she do this, as thou fast, good denier, tell 'fore me\\nSo is all advoctaging state:\\nThere is some merry wife, my boys.\\nMy quarrel fartsher far Romeo leave to live.\\nSo conceives he thus so mock'd.\\n\\nSICINIUS:\\nThen turble me my loy:\\nThe little liegest melted away.\\n3 KING HENRY VI\\n\\nQ\"\n",
      " b\"ROMEO:\\nGrumio, might you told him they are fled.\\n\\nAEdile:\\nHis gracious long Rivers, Warwick!\\nYour father bears the tide then foes; and\\nslow tiliners of our breath that this most son to the grove insultice.\\nGive prison well and love Kate to my choke\\nBy you no less than Romeo your high is at your\\nAgts have watch with his court-shinition.\\nMark what you speak there was, well I withold deposed;\\nFor I were it distributed, you to visit thee.\\nSome smoot of comforter: more to him,\\nHave compared of seatons asses, to my goss,\\nSo will I deny an oath when all the tribute's land\\nAs when with 's blood to live will blamb.\\nSearchen, part our dispatch, or malkin Will the manner of\\nAn eye as you. Foe, sir!\\n\\nSEBASTIAN:\\nWell, you you have before her but a father\\nAs you have done for't: let him not pirch mine eye.\\nThen, go you to him for cherts, hence!\\n\\nPOMPEY:\\nSir, I will more in them, good nurseruse fellows there.\\n\\nPETRUCHIO:\\nIs Kate? I rate him all, the rest.\\n\\nCOMINIUS:\\nBut we know me;\\nA most noble mambers, of\"\n",
      " b\"ROMEO:\\nThou seeks to great and else\\nSo i' the writing could,\\nBy the instant and showed the other side\\nThe wagar of these honour feels,\\nAnd set the writing of a five two eagles,\\nMy language, like the man adder,' life's tongue\\nAnd call him 'ans more attain time and head\\nShould rend the liguting intentred,\\nWhose form and honour heart these softensels\\nWill make them from yield to him: we will\\nLong die behold the peel, stabb'd the canon.\\n\\nWARWICK:\\nAnd I, thou set'st the king shall I be heard, libe a traitor, a\\nHalf contrided me to good Till--\\nWalkerdomen are all popul-up. Then, eyegured, stand good here;\\nBy Perditam lost to seem a month\\n'Fore not all in presence of him.\\n\\nKING HENRY VI:\\nMaster from some from Penetare I to thy liege,\\nWhat modst thee fall, the Duke of Hereford's brazs,\\nAll-more my pompery, must I cannot,\\nReit in some prey-coats of patience than to\\ngreat sorry. Whilst will five humble wealthy\\nClarence is bone, whench shall he esteen me\\nMistaff of thee is only lament.\\nWhat, no man can\"], shape=(5,), dtype=string) \n",
      "\n",
      "________________________________________________________________________________\n",
      "\n",
      "Run time: 3.4790079593658447\n"
     ]
    }
   ],
   "source": [
    "start = time.time()\n",
    "states = None\n",
    "next_char = tf.constant(['ROMEO:', 'ROMEO:', 'ROMEO:', 'ROMEO:', 'ROMEO:'])\n",
    "result = [next_char]\n",
    "\n",
    "for n in range(1000):\n",
    "  next_char, states = one_step_model.generate_one_step(next_char, states=states)\n",
    "  result.append(next_char)\n",
    "\n",
    "result = tf.strings.join(result)\n",
    "end = time.time()\n",
    "print(result, '\\n\\n' + '_'*80)\n",
    "print('\\nRun time:', end - start)"
   ]
  },
  {
   "cell_type": "markdown",
   "metadata": {
    "id": "FhuF5Y5g53U-"
   },
   "source": [
    "## **Ekspor Model Generator**\n",
    "\n",
    "Model satu langkah ini dapat dengan mudah disimpan dan digunakan kembali, memungkinkan Anda menggunakannya di mana pun tf.saved_model diterima."
   ]
  },
  {
   "cell_type": "code",
   "execution_count": null,
   "metadata": {
    "colab": {
     "base_uri": "https://localhost:8080/"
    },
    "id": "umMT-fYT57w4",
    "outputId": "b5f4541b-445e-4878-d421-5d3f914d1d95"
   },
   "outputs": [
    {
     "name": "stderr",
     "output_type": "stream",
     "text": [
      "WARNING:tensorflow:Skipping full serialization of Keras layer <__main__.OneStep object at 0x7fa6b9980b80>, because it is not built.\n",
      "WARNING:tensorflow:Model's `__init__()` arguments contain non-serializable objects. Please implement a `get_config()` method in the subclassed Model for proper saving and loading. Defaulting to empty config.\n",
      "WARNING:tensorflow:Model's `__init__()` arguments contain non-serializable objects. Please implement a `get_config()` method in the subclassed Model for proper saving and loading. Defaulting to empty config.\n"
     ]
    }
   ],
   "source": [
    "tf.saved_model.save(one_step_model, 'one_step')\n",
    "one_step_reloaded = tf.saved_model.load('one_step')"
   ]
  },
  {
   "cell_type": "code",
   "execution_count": null,
   "metadata": {
    "colab": {
     "base_uri": "https://localhost:8080/"
    },
    "id": "Ert7Ce8D581m",
    "outputId": "be6921c4-7b5c-4561-ab5e-78029148b293"
   },
   "outputs": [
    {
     "name": "stdout",
     "output_type": "stream",
     "text": [
      "ROMEO:\n",
      "Proclaim? Sad my presence they know now;\n",
      "And when I fear, return an oath which now\n",
      "Arrivian and for\n"
     ]
    }
   ],
   "source": [
    "states = None\n",
    "next_char = tf.constant(['ROMEO:'])\n",
    "result = [next_char]\n",
    "\n",
    "for n in range(100):\n",
    "  next_char, states = one_step_reloaded.generate_one_step(next_char, states=states)\n",
    "  result.append(next_char)\n",
    "\n",
    "print(tf.strings.join(result)[0].numpy().decode(\"utf-8\"))"
   ]
  },
  {
   "cell_type": "markdown",
   "metadata": {
    "id": "byS0EJi86BEf"
   },
   "source": [
    "# **Tugas**\n",
    "\n",
    "Prosedur pelatihan pada praktikum 2 merupakan prosedur sederhana, yang tidak memberi Anda banyak kendali. Model ini menggunakan \"teacher-forcing\" yang mencegah prediksi buruk diumpankan kembali ke model, sehingga model tidak pernah belajar untuk pulih dari kesalahan. Jadi, setelah Anda melihat cara menjalankan model secara manual, selanjutnya Anda akan mengimplementasikan custom loop pelatihan. Hal ini memberikan titik awal jika, misalnya, Anda ingin menerapkan pembelajaran kurikulum untuk membantu menstabilkan keluaran open-loop model. Bagian terpenting dari loop pelatihan khusus adalah fungsi langkah pelatihan.\n",
    "\n",
    "Gunakan tf.GradientTape untuk men track nilai gradient. Anda dapat mempelajari lebih lanjut tentang pendekatan ini dengan membaca eager execution guide.\n",
    "\n",
    "Prosedurnya adalah \"\n",
    "1. Jalankan Model dan hitung loss dengan tf.GradientTape.\n",
    "2. Hitung update dan terapkan pada model dengan optimizer"
   ]
  },
  {
   "cell_type": "code",
   "execution_count": null,
   "metadata": {
    "id": "CWVAQ2uE6Npy"
   },
   "outputs": [],
   "source": [
    "class CustomTraining(MyModel):\n",
    "  @tf.function\n",
    "  def train_step(self, inputs):\n",
    "      inputs, labels = inputs\n",
    "      with tf.GradientTape() as tape:\n",
    "          predictions = self(inputs, training=True)\n",
    "          loss = self.loss(labels, predictions)\n",
    "      grads = tape.gradient(loss, model.trainable_variables)\n",
    "      self.optimizer.apply_gradients(zip(grads, model.trainable_variables))\n",
    "\n",
    "      return {'loss': loss}"
   ]
  },
  {
   "cell_type": "markdown",
   "metadata": {
    "id": "cJC15D7H6QA9"
   },
   "source": [
    "Kode diatas menerapkan train_step method sesuai dengan  Keras' train_step conventions. Ini opsional, tetapi memungkinkan Anda mengubah perilaku langkah pelatihan dan tetap menggunakan keras Model.compile and Model.fit methods."
   ]
  },
  {
   "cell_type": "code",
   "execution_count": null,
   "metadata": {
    "id": "f5vh4OKa6QfW"
   },
   "outputs": [],
   "source": [
    "model = CustomTraining(\n",
    "    vocab_size=len(ids_from_chars.get_vocabulary()),\n",
    "    embedding_dim=embedding_dim,\n",
    "    rnn_units=rnn_units)"
   ]
  },
  {
   "cell_type": "code",
   "execution_count": null,
   "metadata": {
    "id": "u-ly-WoW6TMq"
   },
   "outputs": [],
   "source": [
    "model.compile(optimizer = tf.keras.optimizers.Adam(),\n",
    "              loss=tf.keras.losses.SparseCategoricalCrossentropy(from_logits=True))"
   ]
  },
  {
   "cell_type": "code",
   "execution_count": null,
   "metadata": {
    "colab": {
     "base_uri": "https://localhost:8080/"
    },
    "id": "krmOKXDO6Thd",
    "outputId": "3168bdc0-5026-48d7-cfd1-413a810bc20f"
   },
   "outputs": [
    {
     "name": "stdout",
     "output_type": "stream",
     "text": [
      "172/172 [==============================] - 16s 63ms/step - loss: 2.6829\n"
     ]
    },
    {
     "data": {
      "text/plain": [
       "<keras.src.callbacks.History at 0x7fa626a22380>"
      ]
     },
     "execution_count": 74,
     "metadata": {},
     "output_type": "execute_result"
    }
   ],
   "source": [
    "model.fit(dataset, epochs=1)"
   ]
  },
  {
   "cell_type": "markdown",
   "metadata": {
    "id": "qYPy0q2D6Wso"
   },
   "source": [
    "Atau jika ingin lebih mengetahui dalamnya, kita bisa membuat custom training loop sendiri:"
   ]
  },
  {
   "cell_type": "code",
   "execution_count": null,
   "metadata": {
    "colab": {
     "base_uri": "https://localhost:8080/"
    },
    "id": "nO-S8UJx6XBn",
    "outputId": "3d5d789f-8b8b-4214-d846-b3a5d0da1d54"
   },
   "outputs": [
    {
     "name": "stdout",
     "output_type": "stream",
     "text": [
      "Epoch 1 Batch 0 Loss 2.1809\n",
      "Epoch 1 Batch 50 Loss 2.0570\n",
      "Epoch 1 Batch 100 Loss 1.9543\n",
      "Epoch 1 Batch 150 Loss 1.8254\n",
      "\n",
      "Epoch 1 Loss: 1.9703\n",
      "Time taken for 1 epoch 14.74 sec\n",
      "________________________________________________________________________________\n",
      "Epoch 2 Batch 0 Loss 1.7903\n",
      "Epoch 2 Batch 50 Loss 1.7415\n",
      "Epoch 2 Batch 100 Loss 1.6671\n",
      "Epoch 2 Batch 150 Loss 1.6745\n",
      "\n",
      "Epoch 2 Loss: 1.6885\n",
      "Time taken for 1 epoch 12.33 sec\n",
      "________________________________________________________________________________\n",
      "Epoch 3 Batch 0 Loss 1.5781\n",
      "Epoch 3 Batch 50 Loss 1.5518\n",
      "Epoch 3 Batch 100 Loss 1.5192\n",
      "Epoch 3 Batch 150 Loss 1.5254\n",
      "\n",
      "Epoch 3 Loss: 1.5316\n",
      "Time taken for 1 epoch 12.30 sec\n",
      "________________________________________________________________________________\n",
      "Epoch 4 Batch 0 Loss 1.4679\n",
      "Epoch 4 Batch 50 Loss 1.4596\n",
      "Epoch 4 Batch 100 Loss 1.4534\n",
      "Epoch 4 Batch 150 Loss 1.3993\n",
      "\n",
      "Epoch 4 Loss: 1.4351\n",
      "Time taken for 1 epoch 12.21 sec\n",
      "________________________________________________________________________________\n",
      "Epoch 5 Batch 0 Loss 1.3346\n",
      "Epoch 5 Batch 50 Loss 1.3781\n",
      "Epoch 5 Batch 100 Loss 1.3930\n",
      "Epoch 5 Batch 150 Loss 1.3450\n",
      "\n",
      "Epoch 5 Loss: 1.3695\n",
      "Time taken for 1 epoch 12.03 sec\n",
      "________________________________________________________________________________\n",
      "Epoch 6 Batch 0 Loss 1.3272\n",
      "Epoch 6 Batch 50 Loss 1.2932\n",
      "Epoch 6 Batch 100 Loss 1.3257\n",
      "Epoch 6 Batch 150 Loss 1.2814\n",
      "\n",
      "Epoch 6 Loss: 1.3173\n",
      "Time taken for 1 epoch 20.47 sec\n",
      "________________________________________________________________________________\n",
      "Epoch 7 Batch 0 Loss 1.2551\n",
      "Epoch 7 Batch 50 Loss 1.3057\n",
      "Epoch 7 Batch 100 Loss 1.2697\n",
      "Epoch 7 Batch 150 Loss 1.2521\n",
      "\n",
      "Epoch 7 Loss: 1.2736\n",
      "Time taken for 1 epoch 11.82 sec\n",
      "________________________________________________________________________________\n",
      "Epoch 8 Batch 0 Loss 1.1861\n",
      "Epoch 8 Batch 50 Loss 1.2005\n",
      "Epoch 8 Batch 100 Loss 1.2264\n",
      "Epoch 8 Batch 150 Loss 1.2303\n",
      "\n",
      "Epoch 8 Loss: 1.2320\n",
      "Time taken for 1 epoch 12.04 sec\n",
      "________________________________________________________________________________\n",
      "Epoch 9 Batch 0 Loss 1.1878\n",
      "Epoch 9 Batch 50 Loss 1.1629\n",
      "Epoch 9 Batch 100 Loss 1.1933\n",
      "Epoch 9 Batch 150 Loss 1.1848\n",
      "\n",
      "Epoch 9 Loss: 1.1915\n",
      "Time taken for 1 epoch 12.26 sec\n",
      "________________________________________________________________________________\n",
      "Epoch 10 Batch 0 Loss 1.0932\n",
      "Epoch 10 Batch 50 Loss 1.1397\n",
      "Epoch 10 Batch 100 Loss 1.1586\n",
      "Epoch 10 Batch 150 Loss 1.1848\n",
      "\n",
      "Epoch 10 Loss: 1.1511\n",
      "Time taken for 1 epoch 12.29 sec\n",
      "________________________________________________________________________________\n"
     ]
    }
   ],
   "source": [
    "EPOCHS = 10\n",
    "\n",
    "mean = tf.metrics.Mean()\n",
    "\n",
    "for epoch in range(EPOCHS):\n",
    "    start = time.time()\n",
    "\n",
    "    mean.reset_states()\n",
    "    for (batch_n, (inp, target)) in enumerate(dataset):\n",
    "        logs = model.train_step([inp, target])\n",
    "        mean.update_state(logs['loss'])\n",
    "\n",
    "        if batch_n % 50 == 0:\n",
    "            template = f\"Epoch {epoch+1} Batch {batch_n} Loss {logs['loss']:.4f}\"\n",
    "            print(template)\n",
    "\n",
    "    # saving (checkpoint) the model every 5 epochs\n",
    "    if (epoch + 1) % 5 == 0:\n",
    "        model.save_weights(checkpoint_prefix.format(epoch=epoch))\n",
    "\n",
    "    print()\n",
    "    print(f'Epoch {epoch+1} Loss: {mean.result().numpy():.4f}')\n",
    "    print(f'Time taken for 1 epoch {time.time() - start:.2f} sec')\n",
    "    print(\"_\"*80)\n",
    "\n",
    "model.save_weights(checkpoint_prefix.format(epoch=epoch))"
   ]
  },
  {
   "cell_type": "markdown",
   "metadata": {
    "id": "zNmclMTK6Y5s"
   },
   "source": [
    "Jalankan kode diatas dan sebutkan perbedaanya dengan praktikum 2?\n",
    "\n",
    "Jawab : terdapat beberapa perbedaan utama antara praktikum 2 dan pelatihan tugas yang jalankan:\n",
    "\n",
    "**1. Model Architectures:**\n",
    "  - Kode di atas menggunakan arsitektur GRU (Gated Recurrent Unit) dalam mode, sedangkan praktikum 2 menggunakan model bahasa berdasarkan RNN (Recurrent Neural Network)\n",
    "  - Kode di atas memiliki lapisan embedding, GRU, dan dense sedangkan praktikum 2 lebih sederhana dalam hal arsitektur model karena untuk demonstrasi dasar.\n",
    "\n",
    "**2. Epochs:**\n",
    "  - Kode di atas menjalankan model 10 epoch, sedangkan praktikum 2 menjalankan 20 epoch.\n",
    "\n",
    "**3. Waktu Eksekusi:**\n",
    "  - Pada kode di atas waktu eksekuinya lebih lama karena menjalankn model lebih banyak epoch, sedangkan praktikum 2 lebih cepat.\n",
    "\n",
    "**4. Prosedur Pelatihan:**\n",
    "  - Kode di atas mengimplementasikan loop pelatihan khusus menggunakan train_step, sedangkan praktikum 2 menggunakan API model.fit() bawaan keras.\n",
    "\n",
    "**5. Output Hasil Pelatihan:**\n",
    "  - Kode di atas outputnya mencantumkan loss untuk setiap batch dan epoch serta waktu yang diperlukan untuk menajalankan setiap epoch. Sedangkan praktikum 2 hanya informasi singkat tentang loss selama dijalankan tanpa ada informasi tambahan lainnya.\n",
    "\n"
   ]
  }
 ],
 "metadata": {
  "accelerator": "GPU",
  "colab": {
   "gpuType": "T4",
   "provenance": []
  },
  "kernelspec": {
   "display_name": "base",
   "language": "python",
   "name": "python3"
  },
  "language_info": {
   "name": "python",
   "version": "3.12.4"
  }
 },
 "nbformat": 4,
 "nbformat_minor": 0
}
